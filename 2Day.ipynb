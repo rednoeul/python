{
 "cells": [
  {
   "cell_type": "code",
   "execution_count": 1,
   "id": "702604ce",
   "metadata": {},
   "outputs": [
    {
     "name": "stderr",
     "output_type": "stream",
     "text": [
      "C:\\Users\\soldesk\\AppData\\Local\\Temp\\ipykernel_1340\\1014303460.py:1: DeprecationWarning: Importing display from IPython.core.display is deprecated since IPython 7.14, please import from IPython display\n",
      "  from IPython.core.display import display, HTML\n"
     ]
    },
    {
     "data": {
      "text/html": [
       "<style>\n",
       "div.container { width:100% !important; }\n",
       "div.CodeMirror {font-family: Consolas; font-size: 30pt;}\n",
       "div.output { font-size: 20pt; font-weight: bold;}\n",
       "div.input { font-family: Consolas; font-size: 30pt;}\n",
       "div.prompt { min-width: 100px;}\n",
       "</style>\n"
      ],
      "text/plain": [
       "<IPython.core.display.HTML object>"
      ]
     },
     "metadata": {},
     "output_type": "display_data"
    }
   ],
   "source": [
    "from IPython.core.display import display, HTML\n",
    "display(HTML(\n",
    "\"\"\"<style>\n",
    "div.container { width:100% !important; }\n",
    "div.CodeMirror {font-family: Consolas; font-size: 30pt;}\n",
    "div.output { font-size: 20pt; font-weight: bold;}\n",
    "div.input { font-family: Consolas; font-size: 30pt;}\n",
    "div.prompt { min-width: 100px;}\n",
    "</style>\n",
    "\"\"\"))"
   ]
  },
  {
   "cell_type": "code",
   "execution_count": 14,
   "id": "e32f69d3",
   "metadata": {},
   "outputs": [
    {
     "data": {
      "text/plain": [
       "'LIFE IS TOO SHORT'"
      ]
     },
     "execution_count": 14,
     "metadata": {},
     "output_type": "execute_result"
    }
   ],
   "source": [
    "# 리터널 : 자연어 : 문자 , 숫자\n",
    "# 숫자 리터널 : 정수리터널 : 10,1\n",
    "#              실수리터널 : 10.6, 0.5\n",
    "#              연산자 : +,-,*,/,%,//,**\n",
    "# 문자열 리터널 : 'abc',\"abc\", '''abc''', \"\"\"abc\"\"\", \"10\", a:변수\n",
    "이숭무 = 10 # 변수인 이숭무\n",
    "a = '이숭무' # 문자열 리터널인 이숭무\n",
    "#              연산자 :  +:연결연산자, *:반복연산자\n",
    "# 문자열 indexing, slicing\n",
    "# 문자열 함수\n",
    "a = 'Life is too short'\n",
    "#    01234567890123456\n",
    "#              1\n",
    "a.count('s')# 문자열안에 's'가 몇개있는지 확인 \n",
    "#문자 's'가 있는 index(위치)가 어디인지 확인\n",
    "a.find('s')\n",
    "#문자 'too'가 있는 index(위치)가 어디인지 확인\n",
    "a.find('too') #'t'의 위치\n",
    "#index 7번 이후부터의 's'의 위치\n",
    "a.find('s',7)\n",
    "#문자 'k'가 있는 index(위치)가 어디인지 확인\n",
    "a.find('k') # 없는 문자인 경우 -1이 출력\n",
    "# find와 같은 함수\n",
    "a.index('s')\n",
    "a.index('too')\n",
    "a.index('s',7)\n",
    "#a.index('k') # index 는 없는 문자인 경우 오류 발생\n",
    "#영문자를 모두 소문자로\n",
    "a.lower()\n",
    "#영문자를 모두 대문자로\n",
    "a.upper()"
   ]
  },
  {
   "cell_type": "code",
   "execution_count": 29,
   "id": "7cacefef",
   "metadata": {},
   "outputs": [
    {
     "data": {
      "text/plain": [
       "True"
      ]
     },
     "execution_count": 29,
     "metadata": {},
     "output_type": "execute_result"
    }
   ],
   "source": [
    "a = ' Life is too short '\n",
    "# 양쪽 공백을 제거 할때 사용\n",
    "a.strip()\n",
    "a = 'abLife is too shortab'\n",
    "a.strip('ab')\n",
    "a.rstrip('ab')\n",
    "a.lstrip('ab')\n",
    "a = a.strip('ab')\n",
    "a.replace(\"Life\", \"Your leg \")\n",
    "a\n",
    "a = \"010-1234-1234\"\n",
    "#문자열이 모두 숫자인지 #####\n",
    "a.isdigit()\n",
    "a = \"01012341234\"\n",
    "a.isdigit()\n",
    "a = \"abc def\"\n",
    "a.isalpha()\n",
    "a = \"ab cdef\"\n",
    "a.isalpha()\n",
    "a.islower()\n",
    "a.isupper()"
   ]
  },
  {
   "cell_type": "code",
   "execution_count": 39,
   "id": "7774cec7",
   "metadata": {},
   "outputs": [
    {
     "data": {
      "text/plain": [
       "'나는 10개의 사과를 먹어서 three일 동안 아팠습니다.'"
      ]
     },
     "execution_count": 39,
     "metadata": {},
     "output_type": "execute_result"
    }
   ],
   "source": [
    "# 문자열 다루기 : 1.포맷문자 , 2. fotmat함수 , 3. f문자\n",
    "number = 10\n",
    "day = \"three\"\n",
    "'''나는 10개의 사과를 먹어서 three일 동안 아팠습니다.'''\n",
    "a = '나는 %d개의 사과를 먹어서 %s일 동안 아팠습니다.' % (number,day )\n",
    "a = '나는 %s개의 사과를 먹어서 %s일 동안 아팠습니다.' % (number,day )\n",
    "a = '나는 {0}개의 사과를 먹어서 {1}일 동안 아팠습니다.'.format(number,day)\n",
    "a = '나는 {0}개의 사과를 먹어서 {d}일 동안 아팠습니다.'.format(number,d='four')\n",
    "a = f'나는 {number}개의 사과를 먹어서 {day}일 동안 아팠습니다.'\n",
    "a"
   ]
  },
  {
   "cell_type": "code",
   "execution_count": null,
   "id": "14e3c608",
   "metadata": {},
   "outputs": [],
   "source": []
  },
  {
   "cell_type": "code",
   "execution_count": 53,
   "id": "a3b808d4",
   "metadata": {},
   "outputs": [
    {
     "data": {
      "text/plain": [
       "['Your leg', 'is', 'too', 'short']"
      ]
     },
     "execution_count": 53,
     "metadata": {},
     "output_type": "execute_result"
    }
   ],
   "source": [
    "# 자료형 : 리터널 자료형 : 정수(10), 실수(10.6), 문자('a',\"a\") \n",
    "#          리스트 자료형 : [10] : 변수의 단점을 보안하기 위해서 \n",
    "#                         여러개의 값을 저장한다.\n",
    "# a : 변수 : 단점 => 하나의 값만 저장을 한다.\n",
    "a = [] # 빈리스트\n",
    "b = [1, 2, 3]  # 정수를 포함한 리스트\n",
    "c = ['Life', 'is', 'too', 'short']  # 문자열을 포함한 리스트\n",
    "d = [1, 2, 3, 'Life', 'is', 'too', 'short'] # 혼합 리스트\n",
    "e = [1, 2, 3, 'Life', 'is', 'too', 'short', [1, 2, 3] ]  # 리스트를 포함한 혼합리스트\n",
    "# 연산자\n",
    "str1 = \"Life is\"\n",
    "str2 = 'too short'\n",
    "str1 + str2\n",
    "str1 + ' ' + str2\n",
    "\"==\"* 30\n",
    "\n",
    "a = [1,2,3]\n",
    "b = ['aaaa','bbbb','ccccc']\n",
    "a + b\n",
    "a * 3\n",
    "\n",
    "# indexing , slicing\n",
    "a = [1,2,3,4,5]\n",
    "#    0 1 2 3 4\n",
    "a[2]\n",
    "a[2] = 10 # 리스트 안에 있는 요소의 값을 변경하는 경우에는 indexing을 이용한다.\n",
    "a\n",
    "a[2]\n",
    "a[1:3]\n",
    "c = ['Life', 'is', 'too', 'short'] \n",
    "## 'Life'를 \"Your leg\"로 변경\n",
    "c[0] = 'Your leg'\n",
    "c"
   ]
  },
  {
   "cell_type": "code",
   "execution_count": 64,
   "id": "e51deee8",
   "metadata": {},
   "outputs": [
    {
     "name": "stdout",
     "output_type": "stream",
     "text": [
      "['Life', 'is', 'too', 'short']\n",
      "[1, 2, 3]\n",
      "['Life', 'is', 'too', 'short', 1, 2, 3]\n",
      "['Life', 'is', 'too', 'short']\n",
      "['Life', 'is', 'too', 'short']\n",
      "[1, 2, 3]\n"
     ]
    },
    {
     "data": {
      "text/plain": [
       "['Life', 'is', 'too', 'short', [1, 2, 3]]"
      ]
     },
     "execution_count": 64,
     "metadata": {},
     "output_type": "execute_result"
    }
   ],
   "source": [
    "# 리스트 함수\n",
    "### 리스트에 요소 추가 \n",
    "l = ['Life', 'is'] #문자열을 가진 리스트\n",
    "l\n",
    "# 리스트 마지막에 요소 추가하기 ['Life', 'is', 'too']\n",
    "l.append('too')\n",
    "l\n",
    "l.append('short')\n",
    "l\n",
    "# 원하는 위치에 요소 삽입하기\n",
    "l = ['Life', 'short']  # ['Life', 'is', 'short']\n",
    "#      0       1       :    0      1       2\n",
    "l.insert(1, 'is') \n",
    "# ['Life', 'is', 'short']  # ['Life', 'is', 'too' , 'short']\n",
    "#    0       1      2            0      1     2        3\n",
    "l.insert(2,'too')\n",
    "l\n",
    "a =  [1,2,3] \n",
    "print(l)\n",
    "print(a)\n",
    "# ['Life', 'is', 'too', 'short', 1, 2, 3]\n",
    "print(l + a) # 리스트 연결하기 : 원 데이터는 변경되지 않는다.\n",
    "print(l)\n",
    "# 리스트 확장\n",
    "l.extend(a) \n",
    "l\n",
    "l = ['Life', 'is', 'too', 'short']\n",
    "print(l)\n",
    "print(a) # [1, 2, 3]\n",
    "# ['Life', 'is', 'too', 'short', 1, 2, 3]\n",
    "#   0       1     2       3     4  5  6 \n",
    "l.append(a) # ['Life', 'is', 'too', 'short', [1, 2, 3] ]\n",
    "l           #    0      1      2      3         4"
   ]
  },
  {
   "cell_type": "code",
   "execution_count": 85,
   "id": "ba792481",
   "metadata": {},
   "outputs": [
    {
     "name": "stdout",
     "output_type": "stream",
     "text": [
      "9\n",
      "8\n",
      "7\n"
     ]
    }
   ],
   "source": [
    "l = ['Life', 'is', 'too', 'short', 1, 2, 3]\n",
    "#      0      1      2       3     4  5  6\n",
    "# index를 이용해서 요소 삭제\n",
    "l[4]\n",
    "del l[4]\n",
    "l # ['Life', 'is', 'too', 'short', 2, 3]\n",
    "#      0       1     2       3     4  5\n",
    "# slicing을 이용해서 요소 삭제\n",
    "del l[4:4+2]\n",
    "l  # ['Life', 'is', 'too', 'short']\n",
    "#       0      1      2       3\n",
    "del l[2:]\n",
    "l\n",
    "l = ['Life', 'is', 'too', 'short', 1, 2, 3,[1],'1']\n",
    "# 요소의 값을 이용해서 요소 삭제\n",
    "l.remove(1)\n",
    "l\n",
    "l.remove([1])\n",
    "l\n",
    "l.remove('1')\n",
    "l\n",
    "l.remove('is')\n",
    "l\n",
    "#리스트에서 값을 가지고 나오기  ['Life', 'too', 'short', 2, 3]\n",
    "result = l.pop() \n",
    "result\n",
    "l #  ['Life', 'too', 'short', 2] # 비 복원 추출\n",
    "result = l.pop() \n",
    "result\n",
    "l\n",
    "# pop에 index를 사용해서 요소의 값을 추출\n",
    "l = ['Life', 'is', 'too', 'short', 1, 2, 3,[1],'1']\n",
    "#      0      1       2      3      4  5 6  7   8\n",
    "l\n",
    "print(len(l))\n",
    "result = l.pop(2)\n",
    "result\n",
    "l # ['Life', 'is', 'short', 1, 2, 3, [1], '1']\n",
    "#      0      1      2      3  4  5   6    7\n",
    "print(len(l))\n",
    "result = l.pop(2)\n",
    "result\n",
    "l\n",
    "print(len(l))"
   ]
  },
  {
   "cell_type": "code",
   "execution_count": 90,
   "id": "1336aa88",
   "metadata": {},
   "outputs": [
    {
     "data": {
      "text/plain": [
       "[3, 2, 4, 1]"
      ]
     },
     "execution_count": 90,
     "metadata": {},
     "output_type": "execute_result"
    }
   ],
   "source": [
    "# 정렬\n",
    "a = [1, 4, 2, 3]\n",
    "a\n",
    "# 오름차순으로 정렬\n",
    "a.sort()\n",
    "a\n",
    "# 내림차순으로 정렬\n",
    "a.sort(reverse=True)\n",
    "a # [4, 3, 2, 1]\n",
    "a = [1, 4, 2, 3]\n",
    "a\n",
    "a.reverse()\n",
    "a"
   ]
  },
  {
   "cell_type": "code",
   "execution_count": 103,
   "id": "e6252645",
   "metadata": {},
   "outputs": [
    {
     "name": "stdout",
     "output_type": "stream",
     "text": [
      "2\n",
      "3\n",
      "2\n",
      "1\n",
      "4\n"
     ]
    }
   ],
   "source": [
    "str3 = 'hobby'\n",
    "str3.count('b')\n",
    "print(str3.index('b'))\n",
    "print(str3.index('b',3))\n",
    "print(str3.find('b'))\n",
    "# 같은 값의 갯수\n",
    "a = [1, 4, 2, 5, 4, 3]\n",
    "a.count(4)\n",
    "print(a.index(4))\n",
    "print(a.index(4, 2))\n",
    "# print(a.find(4)) #리스트에는  find함수가 없다."
   ]
  },
  {
   "cell_type": "code",
   "execution_count": 111,
   "id": "f83001df",
   "metadata": {},
   "outputs": [
    {
     "name": "stdout",
     "output_type": "stream",
     "text": [
      "1\n",
      "1\n",
      "[1]\n",
      "[4]\n",
      "4\n",
      "4\n",
      "16\n",
      "(4,)\n",
      "(2, 3)\n"
     ]
    }
   ],
   "source": [
    "# 파이썬 자료형\n",
    "# 정수형 자료형 : 10, 1\n",
    "# 실수형 자료형 : 10.3\n",
    "# 문자열형 자료형 : \"1\",'a',\"\"\"가\"\"\", '''abcd''' , a :변수\n",
    "# 리스트 자료형 : []=>빈리스트, [1]=>정수 리스트, ['z']=>문자 리스트\n",
    "# 튜플 자료형 : (), (1,), (1,2), (1,'z')\n",
    "print(1) # 정수형 자료형\n",
    "print('1') #문자열형 자료형\n",
    "print([1]) # 리스트 자료형\n",
    "a = [1+3, 4]\n",
    "a\n",
    "print([1+3])\n",
    "print(a[0])\n",
    "print((1+3)) # 최우선 연산자\n",
    "print((1+3) * 4)\n",
    "print((1+3,)) # 요소가 한개인 경우\n",
    "print((2,3))"
   ]
  },
  {
   "cell_type": "code",
   "execution_count": 113,
   "id": "95bb89b3",
   "metadata": {},
   "outputs": [],
   "source": [
    "l = [] # 빈 리스트\n",
    "t = () # 빈 튜플\n",
    "t1 = (1,)\n",
    "t2 = (1,2,3)\n",
    "t3 =  (1,2,3,'a', 'b')  # 혼합형 튜플\n",
    "l1 = [1,2,3,[4,5,6]] # 리스트를 포함하고 있는 리스트\n",
    "t4 = (1,2,3,(4,5,6)) # 튜플을 포함하고 있는 튜플\n",
    "t5 = (1,2,3,(4,5,6),[1,2,3], \"이숭무\") "
   ]
  },
  {
   "cell_type": "code",
   "execution_count": 119,
   "id": "9e6c27f1",
   "metadata": {},
   "outputs": [
    {
     "name": "stdout",
     "output_type": "stream",
     "text": [
      "3\n",
      "(2, 3)\n",
      "2\n",
      "(2,)\n",
      "1\n",
      "3\n"
     ]
    }
   ],
   "source": [
    "# indexing, slicing을 할 수 있다.\n",
    "t2 = (1,2,3,2)\n",
    "#     0 1 2 3\n",
    "print(t2[2])\n",
    "print(t2[1:1+2])\n",
    "print(t2[1]) # indexing을 하면 요소의 값을 가지고 온다\n",
    "print(t2[1:1+1]) # slicing을 하면 튜플로 가지고 온다.\n",
    "print(t2.index(2))\n",
    "print(t2.index(2,2))"
   ]
  },
  {
   "cell_type": "code",
   "execution_count": 133,
   "id": "4411ca06",
   "metadata": {},
   "outputs": [
    {
     "data": {
      "text/plain": [
       "['h', 'e', 'l', 'l', 'o']"
      ]
     },
     "execution_count": 133,
     "metadata": {},
     "output_type": "execute_result"
    }
   ],
   "source": [
    "# 리스트와 튜플의 차이점\n",
    "#     0 1 2 3\n",
    "l =  [1,2,3,2]\n",
    "t2 = (1,2,3,2)\n",
    "l[2] = 10\n",
    "l\n",
    "# t2[2] = 10 요소를 변경 할 수 없다.\n",
    "del l[2]\n",
    "l\n",
    "# del t2[2]\n",
    "# 요소가 변경이 되어도 되는 경우에는 리스트를 사용하지만 \n",
    "# 요소가 변경되어서는 안되는 경우에는 튜플을 사용한다.\n",
    "str1 = \"hello\"\n",
    "#문자열을 리스트로\n",
    "l = list(str1)\n",
    "l\n",
    "# 리스트를 문자열로\n",
    "str2 = \"\".join(l)\n",
    "str2\n",
    "str3 = \"abd\".join(l)\n",
    "str3\n",
    "# 문자열을 튜플로\n",
    "t = tuple(str1)\n",
    "t\n",
    "str4 = \"\".join(t)\n",
    "str4\n",
    "l2 = list(t)\n",
    "l2"
   ]
  },
  {
   "cell_type": "code",
   "execution_count": 140,
   "id": "21890fc1",
   "metadata": {},
   "outputs": [
    {
     "name": "stdout",
     "output_type": "stream",
     "text": [
      "2\n",
      "a\n",
      "[1, 2, 3]\n",
      "(1, 2, 3)\n",
      "2\n",
      "[1, 2, 3]\n",
      "2\n",
      "l\n",
      "('a', 'b', [1, 2, 3])\n",
      "('b', [1, 2, 3], (1, 2, 3))\n"
     ]
    }
   ],
   "source": [
    "t7 = (1, 2, 3, \"a\", \"b\", [1,2,3], (1,2,3))\n",
    "#     0  1  2   3   4       5        6\n",
    "#                         0 1 2    0 1 2\n",
    "print(t7[1])\n",
    "print(t7[3])\n",
    "print(t7[5]) # 리스트\n",
    "print(t7[6]) # 튜플\n",
    "print(t7[5][1]) # 리스트에 있는 2출력\n",
    "print(t7[5]) # [1, 2, 3]\n",
    "print([1, 2, 3][1])\n",
    "print(\"hello\"[2])\n",
    "print(t7[3:3+3])\n",
    "print(t7[4:])"
   ]
  },
  {
   "cell_type": "code",
   "execution_count": 146,
   "id": "2e806c2c",
   "metadata": {},
   "outputs": [
    {
     "name": "stdout",
     "output_type": "stream",
     "text": [
      "2\n",
      "2\n",
      "Lifeistooshort\n",
      "Life is too short\n",
      "Life is too short\n"
     ]
    }
   ],
   "source": [
    "t8 = 1, 2, 3, \"a\", \"b\", [1,2,3], (1,2,3), 3\n",
    "t8\n",
    "print(t8.index(3))\n",
    "print(t8.count(3))\n",
    "\n",
    "l = ['Life', 'is', 'too', 'short' ]\n",
    "print(\"\".join(l))\n",
    "print(\" \".join(l))\n",
    "t = ('Life', 'is', 'too', 'short' )\n",
    "print(\" \".join(t))"
   ]
  },
  {
   "cell_type": "code",
   "execution_count": 164,
   "id": "ccc8377c",
   "metadata": {},
   "outputs": [
    {
     "name": "stdout",
     "output_type": "stream",
     "text": [
      "pey\n",
      "010-1234-1234\n",
      "이장범\n",
      "이상범\n",
      "이숭무\n",
      "[1, 10, 3, 4, 5]\n",
      "{2: '이숭무', 0: '이상범', 1: '김찬중'}\n",
      "dict_keys([2, 0, 1, 3])\n"
     ]
    },
    {
     "data": {
      "text/plain": [
       "{1: 'b', 3: [1, 3, 4]}"
      ]
     },
     "execution_count": 164,
     "metadata": {},
     "output_type": "execute_result"
    }
   ],
   "source": [
    "# 파이썬 자료형\n",
    "# 정수 자료형 \n",
    "# 실수 자료형 \n",
    "# 문자열 자료형 \n",
    "# 리스트 자료형 : [] , [1]\n",
    "# 튜플 자료형  : () , (1,)\n",
    "# 딕셔너리(사전) 자료형 : {} :키와 값으로 이루어져 있는 자료형을 말한다. \n",
    "# d1 = {key1:vlaue1, key2:value2,..., key_n:value_n}\n",
    "# java : map<key, value> , 자바스크립: json\n",
    "dic = {'name':'pey', 'phone':'010-1234-1234','birth':'1118'}\n",
    "print(dic['name'])\n",
    "print(dic['phone'])\n",
    "# 문자열 , 리스트, 튜플의 공통점은 index를 사용할 수 있다.\n",
    "# 딕셔너리는 index를 사용하지 않도록 하고 있다.\n",
    "# 딕셔너리는 key만 사용하게 정의해 놓았다.\n",
    "d2 = {2:'이숭무', 0:'이상범', 1:'이장범'}\n",
    "#         0         1          2 (x)\n",
    "print(d2[1]) # 값을 key를 이용해서 가지고 온다.\n",
    "print(d2[0])\n",
    "print(d2[2])\n",
    "l = [1,2,3,4,5]\n",
    "#    0 1 2 3 4\n",
    "l[1]\n",
    "l[1] = 10 # index를 이용해서 값을 변경\n",
    "d2[1] = '김찬중' # key를 이용해서 값을 변경\n",
    "print(l)\n",
    "print(d2)\n",
    "l[4] = 20 # index가 있는 경우 값을 변경할 수 있다.\n",
    "l\n",
    "# l[5] = 30 # list assignment index out of range, index가 없으면 오류발생\n",
    "d2[0] = '박준현' # \n",
    "d2[3] = '신재원' # 키가 없는 경우에는 딕셔너리에 추가된다.\n",
    "d2\n",
    "# 딕셔너리는 키가 있는 경우에는 수정이 되지만 키가 없으면 추가가 된다.\n",
    "#              중복키가 존재할 수 없다                             \n",
    "a = {1:'a'}\n",
    "a\n",
    "a[1] = 'b'\n",
    "a\n",
    "a = {1:'a', 1:'b'}\n",
    "a\n",
    "print(d2.keys())\n",
    "a[3] = [1,3,4]\n",
    "a"
   ]
  },
  {
   "cell_type": "code",
   "execution_count": 169,
   "id": "d7187de9",
   "metadata": {},
   "outputs": [
    {
     "data": {
      "text/plain": [
       "{'name': 'pey', 'birth': '1118'}"
      ]
     },
     "execution_count": 169,
     "metadata": {},
     "output_type": "execute_result"
    }
   ],
   "source": [
    "dic= {'name': 'pey', 'phone': '0119993323', 'birth': '1118'}\n",
    "#  요소 삭제\n",
    "l=[1,2,3,4]\n",
    "del l[2]\n",
    "l\n",
    "del dic['phone']\n",
    "dic\n",
    "dic[3] = '이상범'\n",
    "dic\n",
    "del dic[3]\n",
    "dic"
   ]
  },
  {
   "cell_type": "code",
   "execution_count": 174,
   "id": "2d1e23cc",
   "metadata": {},
   "outputs": [
    {
     "name": "stdout",
     "output_type": "stream",
     "text": [
      "1999\n",
      "11\n",
      "18\n",
      "1118\n",
      "1118\n"
     ]
    }
   ],
   "source": [
    "dic= {'name': 'pey', 'phone': '0119993323', 'birth': '1118'}\n",
    "dic['birth']\n",
    "dic['birth'] = '19991118'\n",
    "dic           # 01234567\n",
    "              # 87654321 - \n",
    "## 년, 월 , 일을 따로 출력하세요.\n",
    "dic['birth'] # '19991118'\n",
    "print(dic['birth'][0:4])\n",
    "print(dic['birth'][4:4+2])\n",
    "print(dic['birth'][6:])\n",
    "#  월일만 같이 출력\n",
    "print(dic['birth'][4:])\n",
    "print(dic['birth'][-4:])\n",
    "print('19991118'[-4:])"
   ]
  },
  {
   "cell_type": "code",
   "execution_count": 181,
   "id": "fcc02480",
   "metadata": {},
   "outputs": [
    {
     "name": "stdout",
     "output_type": "stream",
     "text": [
      "dict_keys(['name', 'phone', 'birth'])\n",
      "dict_values(['pey', '0119993323', '1118'])\n",
      "dict_items([('name', 'pey'), ('phone', '0119993323'), ('birth', '1118')])\n"
     ]
    },
    {
     "data": {
      "text/plain": [
       "[]"
      ]
     },
     "execution_count": 181,
     "metadata": {},
     "output_type": "execute_result"
    }
   ],
   "source": [
    "#### 딕셔너리 관련 함수\n",
    "dic= {'name': 'pey', 'phone': '0119993323', 'birth': '1118'}\n",
    "dic\n",
    "### 딕셔너리에 있는 키만 가져오기\n",
    "print(dic.keys())\n",
    "### 딕셔너리에 있는 값만 가져오기\n",
    "print(dic.values())\n",
    "# 딕셔너리에 있는 키와 값을 튜플로 묶어서 리스트로 가져오기\n",
    "print(dic.items())\n",
    "# 딕셔너리 비우기\n",
    "dic.clear()\n",
    "dic\n",
    "l = [1,2,3,4,5]\n",
    "l\n",
    "# 리스트 지우기\n",
    "l.clear()\n",
    "l"
   ]
  },
  {
   "cell_type": "code",
   "execution_count": 190,
   "id": "1b498439",
   "metadata": {},
   "outputs": [
    {
     "name": "stdout",
     "output_type": "stream",
     "text": [
      "pey\n",
      "pey\n",
      "None\n",
      "0\n"
     ]
    }
   ],
   "source": [
    "dic= {'name': 'pey', 'phone': '0119993323', 'birth': '1118'}\n",
    "dic\n",
    "print(dic['name'])\n",
    "print(dic.get('name'))\n",
    "dic['addr'] = '성남'\n",
    "dic\n",
    "#print(dic['money']) # 키가 없는 경우에는 오류가 발생\n",
    "print(dic.get('money')) # None:키가 존재하지 않는다.\n",
    "print(dic.get('money', 0))  #키가 없는 경우 특정한 값을 가질 수 있게 할 수 있다."
   ]
  },
  {
   "cell_type": "code",
   "execution_count": 197,
   "id": "68a37169",
   "metadata": {},
   "outputs": [
    {
     "name": "stdout",
     "output_type": "stream",
     "text": [
      "500\n",
      "500\n",
      "1000\n",
      "1200\n",
      "1000\n",
      "1200\n",
      "100\n"
     ]
    }
   ],
   "source": [
    "dic1 = {'classic' : 500 ,  \"pop\" : 600 }\n",
    "dic2 = {'classic' : 500 ,  \"pop\" : 600, 'money': 100 }\n",
    "print(dic1['classic'])\n",
    "print(dic2['classic'])\n",
    "print(dic1['classic'] + dic2['classic'])\n",
    "print(dic1['pop'] + dic2['pop'])\n",
    "#print(dic1['money'] + dic2['money'])\n",
    "print(dic1.get('classic', 0) + dic2.get('classic',0))\n",
    "print(dic1.get('pop', 0) + dic2.get('pop',0))\n",
    "print(dic1.get('money', 0) + dic2.get('money',0))"
   ]
  },
  {
   "cell_type": "code",
   "execution_count": 198,
   "id": "dd0427b8",
   "metadata": {},
   "outputs": [
    {
     "data": {
      "text/plain": [
       "'1118'"
      ]
     },
     "execution_count": 198,
     "metadata": {},
     "output_type": "execute_result"
    }
   ],
   "source": [
    "# indexing과 slicing은 문자열, 리스트, 튜플만 가능\n",
    "# 딕셔너리는  indexing, slicing을 하지 못하지만 \n",
    "# 딕셔너리의 결과가 문자열, 리스트, 튜플인 경우 indexing, slicing이 가능하다.\n",
    "dic['birth'] # '1118'"
   ]
  },
  {
   "cell_type": "code",
   "execution_count": 204,
   "id": "eb2c07b0",
   "metadata": {},
   "outputs": [
    {
     "data": {
      "text/plain": [
       "{'e', 'h', 'l', 'o'}"
      ]
     },
     "execution_count": 204,
     "metadata": {},
     "output_type": "execute_result"
    }
   ],
   "source": [
    "# 정수, 실수, 문자, 리스트, 튜플, \n",
    "# 딕셔너리 : {} , {key:value}\n",
    "# 집합 : 교집합, 합집합, 차집합 {1,2,3,4}\n",
    "s = {1,2,3,4,5,6}\n",
    "s\n",
    "t = tuple([1,2,3,4,5])\n",
    "t\n",
    "s = set([1,2,3,4,5])\n",
    "s\n",
    "l = list((1,2,3,4,5))\n",
    "l\n",
    "s = set((1,2,3,4,5))\n",
    "s\n",
    "s = set(\"hello\") # 중복데이터를 허용하지 않는다.\n",
    "s"
   ]
  },
  {
   "cell_type": "code",
   "execution_count": 216,
   "id": "feeb0926",
   "metadata": {},
   "outputs": [
    {
     "name": "stdout",
     "output_type": "stream",
     "text": [
      "{1, 2, 3, 4, 5, 6}\n",
      "{4, 5, 6, 7, 8, 9}\n",
      "{4, 5, 6}\n",
      "{4, 5, 6}\n",
      "{1, 2, 3, 4, 5, 6, 7, 8, 9}\n",
      "{1, 2, 3, 4, 5, 6, 7, 8, 9}\n",
      "{1, 2, 3}\n",
      "{8, 9, 7}\n",
      "{1, 2, 3}\n",
      "{8, 9, 7}\n"
     ]
    }
   ],
   "source": [
    "#### 교집합, 합집합, 차집합\n",
    "s1 = {1,2,3,4,5,6}\n",
    "s2 = {4,5,6,7,8,9}\n",
    "#     0 1 2 3 4 5\n",
    "print(s1)\n",
    "print(s2)\n",
    "# print(s1[0])\n",
    "### 교집합\n",
    "print(s1 & s2)\n",
    "print(s1.intersection(s2))\n",
    "### 합집합\n",
    "print(s1 | s2)\n",
    "print(s1.union(s2))\n",
    "### 차집합\n",
    "print(s1 - s2)\n",
    "print(s2 - s1)\n",
    "print(s1.difference(s2))\n",
    "print(s2.difference(s1))"
   ]
  },
  {
   "cell_type": "code",
   "execution_count": 234,
   "id": "2fd3a81f",
   "metadata": {},
   "outputs": [
    {
     "name": "stdout",
     "output_type": "stream",
     "text": [
      "{1, 2, 3, 4, 5, 6, 7}\n",
      "{1, 2, 3, 4, 5, 6, 7}\n",
      "{1, 2, 3, 4, 5, 6, 7, 8}\n"
     ]
    },
    {
     "ename": "KeyError",
     "evalue": "{6, 7}",
     "output_type": "error",
     "traceback": [
      "\u001b[1;31m---------------------------------------------------------------------------\u001b[0m",
      "\u001b[1;31mKeyError\u001b[0m                                  Traceback (most recent call last)",
      "Cell \u001b[1;32mIn[234], line 22\u001b[0m\n\u001b[0;32m     20\u001b[0m s1\u001b[38;5;241m.\u001b[39mremove(\u001b[38;5;241m5\u001b[39m)\n\u001b[0;32m     21\u001b[0m s1\n\u001b[1;32m---> 22\u001b[0m \u001b[43ms1\u001b[49m\u001b[38;5;241;43m.\u001b[39;49m\u001b[43mremove\u001b[49m\u001b[43m(\u001b[49m\u001b[43m{\u001b[49m\u001b[38;5;241;43m6\u001b[39;49m\u001b[43m,\u001b[49m\u001b[38;5;241;43m7\u001b[39;49m\u001b[43m}\u001b[49m\u001b[43m)\u001b[49m\n",
      "\u001b[1;31mKeyError\u001b[0m: {6, 7}"
     ]
    }
   ],
   "source": [
    "s1 = {1, 2, 3, 4, 5, 6, 7}\n",
    "### 요소 추가\n",
    "print(s1)\n",
    "s1.add(7)\n",
    "print(s1)\n",
    "s1.add(8) # add는 요소 하나만 추가 가능\n",
    "print(s1)\n",
    "# 9,10,11을 추가\n",
    "s1.add((9,10,11)) \n",
    "s1 # {(9,10,11),1, 2, 3, 4, 5, 6, 7, 8}(X)\n",
    "s1.remove((9,10,11))\n",
    "s1\n",
    "# {1, 2, 3, 4, 5, 6, 7, 8, 9, 10, 11}\n",
    "s1.update([9,10,11])\n",
    "s1\n",
    "s1.update((12,13,14))\n",
    "s1\n",
    "s1.update({15,16,17})\n",
    "s1\n",
    "s1.remove(5)\n",
    "s1\n",
    "# s1.remove({6,7})"
   ]
  },
  {
   "cell_type": "code",
   "execution_count": 246,
   "id": "eca44346",
   "metadata": {},
   "outputs": [
    {
     "ename": "SyntaxError",
     "evalue": "invalid syntax (1473877880.py, line 15)",
     "output_type": "error",
     "traceback": [
      "\u001b[1;36m  Cell \u001b[1;32mIn[246], line 15\u001b[1;36m\u001b[0m\n\u001b[1;33m    print(x ^= y)\u001b[0m\n\u001b[1;37m            ^\u001b[0m\n\u001b[1;31mSyntaxError\u001b[0m\u001b[1;31m:\u001b[0m invalid syntax\n"
     ]
    }
   ],
   "source": [
    "# 정수 1 , 실수 10.5, 문자 'a', 리스트 [], 튜플(), 딕셔너리 {}, 집합 set, \n",
    "# 부울 : 참 / 거짓 : True / False : 논리\n",
    "a = True # 첫글자가 대문자이어야 한다.\n",
    "a\n",
    "a = False\n",
    "a\n",
    "# 관계(비교)연산의 결과인 경우 부울 타입이 된다.\n",
    "x = 10 ; y = 20\n",
    "print(x < y)\n",
    "print(x > y)\n",
    "print(x <= y)\n",
    "print(x >= y)\n",
    "print(x != y) # x 와 y가 서로 다르다\n",
    "print(x == y) # x 와 y가 서로 같다.\n",
    "print(10 + 20)"
   ]
  },
  {
   "cell_type": "code",
   "execution_count": 251,
   "id": "1845158f",
   "metadata": {},
   "outputs": [
    {
     "name": "stdout",
     "output_type": "stream",
     "text": [
      "True\n",
      "False\n",
      "False\n",
      "False\n",
      "False\n",
      "True\n",
      "True\n",
      "True\n",
      "False\n",
      "False\n",
      "False\n"
     ]
    }
   ],
   "source": [
    "# 논리연산\n",
    "### and\n",
    "print(True and True)\n",
    "print(True and False)\n",
    "print(False and True)\n",
    "print(False and False)\n",
    "print(False & False)\n",
    "## or\n",
    "print(True or True)\n",
    "print(True or False)\n",
    "print(False or True)\n",
    "print(False or False)\n",
    "print(False | False)\n",
    "## xor\n",
    "print(True ^ True)"
   ]
  },
  {
   "cell_type": "code",
   "execution_count": 245,
   "id": "d2f60925",
   "metadata": {},
   "outputs": [
    {
     "name": "stdout",
     "output_type": "stream",
     "text": [
      "False\n"
     ]
    }
   ],
   "source": [
    "x = 10; y = 20 ; z = 15\n",
    "print( x > y and z < y )\n",
    "print( x > y or z < y )"
   ]
  },
  {
   "cell_type": "code",
   "execution_count": 255,
   "id": "77cd2c62",
   "metadata": {},
   "outputs": [
    {
     "name": "stdout",
     "output_type": "stream",
     "text": [
      "평년입니다.\n"
     ]
    }
   ],
   "source": [
    "### 2200년은 윤년일까요(True)? 평년일까요(False)? \n",
    "### 4년마다 윤년이지만 100년마다는 윤년이 아니다 그렇지만 400년마다는 윤년이다.\n",
    "### % 나머지연산자 \n",
    "year = 2200\n",
    "result = year % 4 == 0 and year % 100 != 0 or year % 400 == 0\n",
    "result\n",
    "if year % 4 == 0 and year % 100 != 0 or year % 400 == 0:\n",
    "    print(\"윤년입니다\")\n",
    "else:\n",
    "    print(\"평년입니다.\")"
   ]
  },
  {
   "cell_type": "code",
   "execution_count": 268,
   "id": "5ee49324",
   "metadata": {},
   "outputs": [
    {
     "name": "stdout",
     "output_type": "stream",
     "text": [
      "True\n",
      "False\n",
      "True\n",
      "False\n",
      "True\n",
      "False\n",
      "True\n",
      "True\n",
      "False\n",
      "False\n"
     ]
    }
   ],
   "source": [
    "# bool함수를 사용해서 자료형이 가지고 있는 부울 타입(True/False)을 확인하자.\n",
    "print(bool('이숭무'))\n",
    "print(bool(''))  # blank \"\" false\n",
    "print(bool([1,2,3,4]))\n",
    "print(bool([])) # false\n",
    "print(bool((1,2,3,4)))\n",
    "print(bool(()))  #false\n",
    "print(bool(-1)) \n",
    "print(bool(1))\n",
    "print(bool(0)) # false\n",
    "print(bool(None)) # false\n",
    "\n",
    "if '이숭무': # 관계연산자, 자료형을 직접 대입\n",
    "    print('문자열')"
   ]
  },
  {
   "cell_type": "code",
   "execution_count": 277,
   "id": "4e701937",
   "metadata": {},
   "outputs": [
    {
     "name": "stdout",
     "output_type": "stream",
     "text": [
      "0 0 0\n",
      "python life 이숭무\n",
      "python life 이숭무\n",
      "python life 이숭무\n",
      "python life 이숭무\n",
      "python life 이숭무\n",
      "python life 이숭무\n",
      "python life 이숭무\n"
     ]
    }
   ],
   "source": [
    "### 파이썬 변수 선언법\n",
    "a = 'python'\n",
    "b = 'life'\n",
    "a = b = c = 0\n",
    "print(a,b,c)\n",
    "a , b ,c  =  'python',  'life' , '이숭무'\n",
    "print(a, b, c)\n",
    "a , b ,c  =  ('python',  'life' , '이숭무')\n",
    "print(a, b, c)\n",
    "(a , b ,c)  =  'python',  'life' , '이숭무'\n",
    "print(a, b, c)\n",
    "(a , b ,c)  =  ('python',  'life' , '이숭무')\n",
    "print(a, b, c)\n",
    "a , b ,c  =  ['python',  'life' , '이숭무']\n",
    "print(a, b, c)\n",
    "[a , b ,c]  =  'python',  'life' , '이숭무'\n",
    "print(a, b, c)\n",
    "[a , b ,c]  =  ['python',  'life' , '이숭무']\n",
    "print(a, b, c)"
   ]
  },
  {
   "cell_type": "code",
   "execution_count": 281,
   "id": "83c75c5a",
   "metadata": {},
   "outputs": [
    {
     "name": "stdout",
     "output_type": "stream",
     "text": [
      "10 20\n",
      "==========================================================================================\n",
      "20 10\n",
      "==========================================================================================\n",
      "10 20\n"
     ]
    }
   ],
   "source": [
    "# 변수에 있는 값을 서로 교환하기\n",
    "a = 10\n",
    "b = 20\n",
    "print(a, b)\n",
    "print(\"======\" * 15)\n",
    "temp = a  # 다른 언어 방식\n",
    "a = b\n",
    "b = temp\n",
    "print(a,b)\n",
    "print(\"======\" * 15)\n",
    "a , b = b , a # 파이썬 방식\n",
    "print(a, b)"
   ]
  },
  {
   "cell_type": "code",
   "execution_count": 287,
   "id": "d0a5c9db",
   "metadata": {},
   "outputs": [
    {
     "name": "stdout",
     "output_type": "stream",
     "text": [
      "이숭무는 참이기 때문에 실행\n",
      "실행 끝\n"
     ]
    }
   ],
   "source": [
    "#### 3장 제어문\n",
    "### bool타입을 이용해서 원하는 결과를 얻어 오는 것을 말한다.\n",
    "\n",
    "### 조건문(식)(관계연산자) : 여러가지 선택중에서 하나를 선택할 수 있게 하는 것\n",
    "### 조건문을 사용할 경우에는 조건문 뒤에는 : 이 있어야하고\n",
    "### 명령문은 들여쓰기를 하여야 한다. 들어쓰기가 되지 않은 경우 오류 발생\n",
    "### 들여쓰기는 공백문자 또는 탭을 사용할 수가 있지만 두개를 같이 사용하지 못한다.\n",
    "### 들여쓰기할 때는 주로 탭을 많이 사용한다.\n",
    "\n",
    "### 형식(문법)\n",
    "'''\n",
    "if 조건문: # True\n",
    "    명령문1\n",
    "    명령문2\n",
    "    ...\n",
    "    명령문n\n",
    "명령문n1\n",
    "'''\n",
    "# 조건식 다음의 명령문은 조건식의 결과가 True이어야 실행이 되고  \n",
    "# False이면 실행이 안된다.\n",
    "if '이숭무':\n",
    "    print(\"이숭무는 참이기 때문에 실행\")\n",
    "\n",
    "if '':\n",
    "    print('거짓이므로 실행되지 않았음')\n",
    "print('실행 끝')"
   ]
  },
  {
   "cell_type": "code",
   "execution_count": 290,
   "id": "ba25e474",
   "metadata": {},
   "outputs": [
    {
     "name": "stdout",
     "output_type": "stream",
     "text": [
      "차를 타고 가시오\n",
      "============================================================\n"
     ]
    }
   ],
   "source": [
    "# 단일 if문\n",
    "money = 3100\n",
    "# 3000원 이상이면 \"차를 타고 가시오\"를 출력\n",
    "if money >= 3000: \n",
    "    print('차를 타고 가시오')\n",
    "print(\"===\" * 20)\n",
    "money = 2500\n",
    "if money >= 3000: \n",
    "    print('차를 타고 가시오')\n"
   ]
  },
  {
   "cell_type": "code",
   "execution_count": 300,
   "id": "a1b53149",
   "metadata": {},
   "outputs": [
    {
     "name": "stdout",
     "output_type": "stream",
     "text": [
      "True\n",
      "차를 타고 가시오\n",
      "============================================================\n",
      "걸어가시오\n",
      "============================================================\n",
      "걸어가시오\n",
      "============================================================\n",
      "x가 y보다 작다\n",
      "============================================================\n",
      "x가 y보다 다르다\n",
      "============================================================\n",
      "x가 y보다 다르다\n"
     ]
    }
   ],
   "source": [
    "# 결과가 false이어도 실행이 되도록 하자.\n",
    "# if ~ else: 두개 중에 하나를 선택하고자 할 때 사용\n",
    "'''\n",
    "if 조건문: # True\n",
    "    명령문1\n",
    "    명령문2\n",
    "    ...\n",
    "    명령문n\n",
    "else: # 조건문의 결과가 false\n",
    "    명령문1-1\n",
    "    명령문1-2\n",
    "    ...\n",
    "    명령문1-n\n",
    "'''\n",
    "money = 3100\n",
    "# 돈이 3000원이상이면 \"차를 타고 가시오\"를 출력하고 아니면 \"걸어가시오\"를 출력\n",
    "print(money >= 3000)\n",
    "if money >= 3000:\n",
    "    print(\"차를 타고 가시오\")\n",
    "else:\n",
    "    print(\"걸어가시오\")\n",
    "print(\"==\" * 30)\n",
    "money = 2500\n",
    "if money >= 3000:\n",
    "    print(\"차를 타고 가시오\")\n",
    "else: #false\n",
    "    print(\"걸어가시오\")\n",
    "print(\"==\" * 30)\n",
    "money = 2500\n",
    "if not money >= 3000: # not False = True \n",
    "    print(\"걸어가시오\") \n",
    "else: #false\n",
    "    print(\"차를 타고 가시오\")\n",
    "print(\"==\" * 30)\n",
    "x = 10 ; y = 20 \n",
    "if x  >  y:\n",
    "    print(\"x가 y보다 크다\")\n",
    "else:\n",
    "    print(\"x가 y보다 작다\")\n",
    "print(\"==\" * 30)\n",
    "x = 10 ; y = 20 \n",
    "if x  ==  y:\n",
    "    print(\"x가 y보다 같다\")\n",
    "else:\n",
    "    print(\"x가 y보다 다르다\")    \n",
    "print(\"==\" * 30)\n",
    "x = 10 ; y = 20 \n",
    "if x  !=  y:\n",
    "    print(\"x가 y보다 다르다\")    \n",
    "else:\n",
    "    print(\"x가 y보다 같다\")   "
   ]
  },
  {
   "cell_type": "code",
   "execution_count": 310,
   "id": "c0918ac7",
   "metadata": {},
   "outputs": [
    {
     "name": "stdout",
     "output_type": "stream",
     "text": [
      "True\n",
      "True\n",
      "False\n",
      "True\n",
      "False\n",
      "True\n",
      "True\n",
      "True\n",
      "True\n",
      "False\n",
      "True\n"
     ]
    }
   ],
   "source": [
    "# IN연산자 사용하기 : 포함하고 있는지 확인.\n",
    "l = [1,2,3,4,5,6] \n",
    "print( 4 in l)\n",
    "print( 4 in [1,2,3,4,5,6] )\n",
    "print( 7 in l)\n",
    "print( 8 not in l)\n",
    "\n",
    "print( 'j' in 'python')      # False\n",
    "print( 'j' not in 'python') # True\n",
    "print( 'a' in {'a':1, 'b':2}) # True\n",
    "print( 4 in (1,2,3,4,5,6)) # True\n",
    "print( 4 in {1,2,3,4,5,6}) # True\n",
    "print( 7 in {1,2,3,4,5,6}) # False\n",
    "print( 7 not in {1,2,3,4,5,6}) # True"
   ]
  },
  {
   "cell_type": "code",
   "execution_count": 313,
   "id": "ae781413",
   "metadata": {},
   "outputs": [
    {
     "name": "stdout",
     "output_type": "stream",
     "text": [
      "문자열에 j가 없다.\n",
      " 리스트에는 4가 있습니다.\n",
      " 리스트에는 7이 없습니다.\n",
      " 리스트에는 7이 없습니다.\n"
     ]
    }
   ],
   "source": [
    "if 'j' in 'python':\n",
    "    print('문자열에 j가 있다.')\n",
    "else:\n",
    "    print('문자열에 j가 없다.')\n",
    "    \n",
    "l = [1,2,3,4,5,6] \n",
    "if 4 in l :\n",
    "    print(' 리스트에는 4가 있습니다.')\n",
    "else:\n",
    "    print(' 리스트에는 4가 없습니다.')\n",
    "    \n",
    "if 7 in l :\n",
    "    print(' 리스트에는 7이 있습니다.')\n",
    "else:\n",
    "    print(' 리스트에는 7이 없습니다.')\n",
    "    \n",
    "if 7 not in l :\n",
    "    print(' 리스트에는 7이 없습니다.') \n",
    "else:\n",
    "    print(' 리스트에는 7이 있습니다.')"
   ]
  },
  {
   "cell_type": "code",
   "execution_count": 316,
   "id": "9ddaf3bd",
   "metadata": {},
   "outputs": [
    {
     "name": "stdout",
     "output_type": "stream",
     "text": [
      "True\n",
      "주머니에 돈이 있습니다.\n",
      "주머니에 돈이 있습니다.\n"
     ]
    }
   ],
   "source": [
    "pocket = ['paper', 'cellphone', 'money'] \n",
    "print( 'money' in pocket)\n",
    "if 'money' in pocket:\n",
    "    print('주머니에 돈이 있습니다.')\n",
    "else:\n",
    "    print('주머니에 돈이 없습니다.')\n",
    "    \n",
    "if 'money' not in pocket:  # True => False\n",
    "    print('주머니에 돈이 없습니다.')\n",
    "else:\n",
    "    print('주머니에 돈이 있습니다.')"
   ]
  },
  {
   "cell_type": "code",
   "execution_count": 317,
   "id": "1fa8ca2e",
   "metadata": {},
   "outputs": [
    {
     "name": "stdout",
     "output_type": "stream",
     "text": [
      "False\n"
     ]
    }
   ],
   "source": [
    "### 영어가 40이상이고, 국어가 40이상이고 , 수학이 40이상일 때 , \n",
    "### 평균이 60이상이면 합격 그렇지 않으면 불합격\n",
    "mat = 55\n",
    "eng = 70\n",
    "kor = 40\n",
    "result = (mat+eng+kor) / 3 >= 60 and mat >= 40 and eng >= 40 and kor >= 40\n",
    "print(result)\n",
    "if (mat+eng+kor) / 3 >= 60 and mat >= 40 and eng >= 40 and kor >= 40:\n",
    "    print('합격')\n",
    "else:\n",
    "    print('불합격')"
   ]
  },
  {
   "cell_type": "code",
   "execution_count": 318,
   "id": "af81c5ec",
   "metadata": {},
   "outputs": [
    {
     "name": "stdout",
     "output_type": "stream",
     "text": [
      "C\n"
     ]
    }
   ],
   "source": [
    "# score가 90이상이면 A, 80이상이면 B, 70이상이면 C, 60이상이면 D, \n",
    "# 그렇지 않으면 F\n",
    "# 조건이 여러개인 경우\n",
    "# 조건식은 if문에 적을 수 있습니다.\n",
    "'''\n",
    "if 조건문: # True\n",
    "    명령문1\n",
    "    명령문2\n",
    "    ...\n",
    "    명령문n\n",
    "elif 조건문: \n",
    "    명령문1-1\n",
    "    명령문1-2\n",
    "    ...\n",
    "    명령문1-n\n",
    "elif 조건문: \n",
    "    명령문2-1\n",
    "    명령문2-2\n",
    "    ...\n",
    "    명령문2-n\n",
    "elif 조건문: \n",
    "    명령문3-1\n",
    "    명령문3-2\n",
    "    ...\n",
    "    명령문3-n\n",
    "...\n",
    "else: \n",
    "    명령문4-1\n",
    "    명령문4-2\n",
    "    ...\n",
    "    명령문4-n\n",
    "'''\n",
    "score =76\n",
    "if score >= 90:\n",
    "    print('A')\n",
    "elif score >=80:\n",
    "    print('B')\n",
    "elif score>= 70:\n",
    "    print('C')\n",
    "elif score>=60:\n",
    "    print('D')\n",
    "else:\n",
    "    print('F')\n",
    "# switch~case는 딕셔너리로 사용할 수 있다.\n"
   ]
  },
  {
   "cell_type": "code",
   "execution_count": null,
   "id": "448fd677",
   "metadata": {},
   "outputs": [],
   "source": [
    "### 95이상이면 A+ 이하면 A\n",
    "### 85이상이면 B+ 이하면 B\n",
    "### 75이상이면 C+ 이하면 C\n",
    "### 65이상이면 D+ 이하면 D\n",
    "score =76\n",
    "if score >= 90:\n",
    "    if score >= 95:\n",
    "        print('A+')\n",
    "    else:\n",
    "        print('A')\n",
    "elif score >=80:\n",
    "    if score >= 85:\n",
    "        print('B+')\n",
    "    else:\n",
    "        print('B')\n",
    "elif score>= 70:\n",
    "    if score >= 75:\n",
    "        print('C+')\n",
    "    else:\n",
    "        print('C')\n",
    "elif score>=60:\n",
    "    if score >= 65:\n",
    "        print('D+')\n",
    "    else:\n",
    "        print('D')\n",
    "else:\n",
    "    print('F')"
   ]
  },
  {
   "cell_type": "code",
   "execution_count": 319,
   "id": "4429fc31",
   "metadata": {},
   "outputs": [
    {
     "name": "stdout",
     "output_type": "stream",
     "text": [
      "success\n"
     ]
    }
   ],
   "source": [
    "'''\n",
    "score가 60이면 message 변수에 success를 아니면 message 에 failure를 저장한 후 출력\n",
    "'''\n",
    "if score >= 60:\n",
    "    message = 'success'\n",
    "else:\n",
    "    message = 'failure'\n",
    "print(message)\n",
    "# 파이썬 형식으로 변경\n",
    "message = 'success' if score >= 60 else 'failure'\n",
    "print(message)"
   ]
  },
  {
   "cell_type": "code",
   "execution_count": null,
   "id": "77dfc10b",
   "metadata": {},
   "outputs": [],
   "source": []
  },
  {
   "cell_type": "code",
   "execution_count": null,
   "id": "b66e4fb3",
   "metadata": {},
   "outputs": [],
   "source": []
  },
  {
   "cell_type": "code",
   "execution_count": null,
   "id": "acebc4d8",
   "metadata": {},
   "outputs": [],
   "source": []
  },
  {
   "cell_type": "code",
   "execution_count": null,
   "id": "ef45745b",
   "metadata": {},
   "outputs": [],
   "source": []
  },
  {
   "cell_type": "code",
   "execution_count": null,
   "id": "7c6b09be",
   "metadata": {},
   "outputs": [],
   "source": []
  },
  {
   "cell_type": "code",
   "execution_count": null,
   "id": "96bebce8",
   "metadata": {},
   "outputs": [],
   "source": []
  },
  {
   "cell_type": "code",
   "execution_count": null,
   "id": "ce9d75ff",
   "metadata": {},
   "outputs": [],
   "source": []
  },
  {
   "cell_type": "code",
   "execution_count": null,
   "id": "3148a57a",
   "metadata": {},
   "outputs": [],
   "source": []
  }
 ],
 "metadata": {
  "kernelspec": {
   "display_name": "Python 3 (ipykernel)",
   "language": "python",
   "name": "python3"
  },
  "language_info": {
   "codemirror_mode": {
    "name": "ipython",
    "version": 3
   },
   "file_extension": ".py",
   "mimetype": "text/x-python",
   "name": "python",
   "nbconvert_exporter": "python",
   "pygments_lexer": "ipython3",
   "version": "3.11.2"
  }
 },
 "nbformat": 4,
 "nbformat_minor": 5
}
