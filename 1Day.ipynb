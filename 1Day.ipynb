{
 "cells": [
  {
   "cell_type": "code",
   "execution_count": 2,
   "id": "6474a351",
   "metadata": {},
   "outputs": [
    {
     "name": "stderr",
     "output_type": "stream",
     "text": [
      "C:\\Users\\soldesk\\AppData\\Local\\Temp\\ipykernel_632\\1014303460.py:1: DeprecationWarning: Importing display from IPython.core.display is deprecated since IPython 7.14, please import from IPython display\n",
      "  from IPython.core.display import display, HTML\n"
     ]
    },
    {
     "data": {
      "text/html": [
       "<style>\n",
       "div.container { width:100% !important; }\n",
       "div.CodeMirror {font-family: Consolas; font-size: 30pt;}\n",
       "div.output { font-size: 20pt; font-weight: bold;}\n",
       "div.input { font-family: Consolas; font-size: 30pt;}\n",
       "div.prompt { min-width: 100px;}\n",
       "</style>\n"
      ],
      "text/plain": [
       "<IPython.core.display.HTML object>"
      ]
     },
     "metadata": {},
     "output_type": "display_data"
    }
   ],
   "source": [
    "from IPython.core.display import display, HTML\n",
    "display(HTML(\n",
    "\"\"\"<style>\n",
    "div.container { width:100% !important; }\n",
    "div.CodeMirror {font-family: Consolas; font-size: 30pt;}\n",
    "div.output { font-size: 20pt; font-weight: bold;}\n",
    "div.input { font-family: Consolas; font-size: 30pt;}\n",
    "div.prompt { min-width: 100px;}\n",
    "</style>\n",
    "\"\"\"))"
   ]
  },
  {
   "cell_type": "code",
   "execution_count": 37,
   "id": "58d3f547",
   "metadata": {},
   "outputs": [
    {
     "name": "stdout",
     "output_type": "stream",
     "text": [
      "8\n",
      "1\n",
      "2\n",
      "3\n"
     ]
    }
   ],
   "source": [
    "print(3 + 5)\n",
    "for i in [1,2,3]:\n",
    "    print(i)"
   ]
  },
  {
   "cell_type": "code",
   "execution_count": 39,
   "id": "46e501b7",
   "metadata": {},
   "outputs": [
    {
     "name": "stdout",
     "output_type": "stream",
     "text": [
      "파이썬 실행\n",
      "6\n"
     ]
    }
   ],
   "source": [
    "print(\"파이썬 실행\")\n",
    "print(5 + 1)"
   ]
  },
  {
   "cell_type": "code",
   "execution_count": 41,
   "id": "82d29755",
   "metadata": {},
   "outputs": [
    {
     "name": "stdout",
     "output_type": "stream",
     "text": [
      "파이썬 실행\n",
      "6\n"
     ]
    }
   ],
   "source": [
    "print(\"파이썬 실행\");print(5 + 1)"
   ]
  },
  {
   "cell_type": "code",
   "execution_count": 43,
   "id": "c2ea5e68",
   "metadata": {},
   "outputs": [
    {
     "name": "stdout",
     "output_type": "stream",
     "text": [
      "4\n"
     ]
    }
   ],
   "source": [
    "print(3 + 1)# 파이썬의 명령은 한 행 이어야 한다."
   ]
  },
  {
   "cell_type": "code",
   "execution_count": 45,
   "id": "9bfd1282",
   "metadata": {},
   "outputs": [
    {
     "name": "stdout",
     "output_type": "stream",
     "text": [
      "1\n",
      "2\n",
      "3\n"
     ]
    }
   ],
   "source": [
    "for i in [1,2,3]:\n",
    "    print(i)     "
   ]
  },
  {
   "cell_type": "code",
   "execution_count": 54,
   "id": "32e11c9f",
   "metadata": {},
   "outputs": [
    {
     "name": "stdout",
     "output_type": "stream",
     "text": [
      "10\n",
      "10.5\n",
      "10\n",
      "2.0\n",
      "200\n",
      "1\n",
      "3\n",
      "1000\n",
      "1000\n"
     ]
    }
   ],
   "source": [
    "#### 파이썬 문법\n",
    "# 리터널 : 자연어 (문자, 숫자, 참/거짓)\n",
    "#         숫자 리터널 : 정수 : 1 ,2, 10\n",
    "#                       실수: 0.30, 10.5\n",
    "print(10) # 숫자는 아무런 표식이 없다.\n",
    "print(10.5)\n",
    "\n",
    "a = 10 # a를 변수 : 리터널을 저장할 수 있게 만든 것\n",
    "print(a)\n",
    "# 변수 = 리터널\n",
    "# print(변수)\n",
    "\n",
    "\n",
    "# 숫자리터널에 대한 연산자 : +, -, * , /\n",
    "a = 20\n",
    "b = 10\n",
    "print(a / b) # print(20 / 10)\n",
    "print(a * b) # print( 20 * 10)\n",
    "### 나머지 : %\n",
    "# 10을 3으로 나눈 나머지 : 1\n",
    "a = 10 % 3 #  변수는 오로지 하나의 값만 갖는다. \n",
    "print(a)\n",
    "### 몫 연산자(//)\n",
    "a = 10 // 3\n",
    "print(a)\n",
    "### 제곱 승\n",
    "a  = 10 ** 3\n",
    "print(a)\n",
    "# + , - , *, / , % , //,**\n",
    "a = 10\n",
    "b = 3\n",
    "print( a ** b)"
   ]
  },
  {
   "cell_type": "code",
   "execution_count": 66,
   "id": "b233d568",
   "metadata": {},
   "outputs": [
    {
     "name": "stdout",
     "output_type": "stream",
     "text": [
      "10\n",
      "10\n",
      "c\n",
      "c\n",
      "python is fun\n",
      "python is fun\n",
      "이숭무\n",
      "10\n",
      "highland0@nate.com\n",
      "01071461970\n",
      "10\n",
      "10\n",
      "30\n",
      "1020\n",
      "python is fun\n"
     ]
    }
   ],
   "source": [
    "## 문자열 리터널 : 한국어, 일본어, 영어(c), 중국어,...\n",
    "print(10)\n",
    "# print(c) :  c는 변수가 된다.\n",
    "c = 10\n",
    "print(c)\n",
    "print(\"c\") # 변수와 문자리터널을 구별하기 위해서\n",
    "print('c')\n",
    "print(\"python is fun\")\n",
    "print('python is fun')\n",
    "print(\"이숭무\")\n",
    "이숭무 = 10\n",
    "print(이숭무)\n",
    "print(\"highland0@nate.com\")\n",
    "print(\"01071461970\")\n",
    "print(10) # 정수\n",
    "print(\"10\") # 문자\n",
    "print(10 + 20)\n",
    "# print(\"10\" + 20) :  문자와 숫자이기 때문에 연산할 수 없다\n",
    "print(\"10\" + \"20\") # 문자열에서 +는 문자열 붙이기 연산자가 된다.\n",
    "print('python ' + 'is' + ' fun')"
   ]
  },
  {
   "cell_type": "code",
   "execution_count": 67,
   "id": "a0e0ebee",
   "metadata": {},
   "outputs": [
    {
     "name": "stdout",
     "output_type": "stream",
     "text": [
      "이숭무\n",
      "이숭무\n",
      "이숭무\n",
      "이숭무\n"
     ]
    }
   ],
   "source": [
    "# 문자열 리터널을 표현하는 방법\n",
    "# 'c', \"c\", '''c''', \"\"\"c\"\"\"\n",
    "print(\"이숭무\")\n",
    "print('이숭무')\n",
    "print('''이숭무''')\n",
    "print(\"\"\"이숭무\"\"\")"
   ]
  },
  {
   "cell_type": "code",
   "execution_count": 71,
   "id": "2871f1f7",
   "metadata": {},
   "outputs": [
    {
     "name": "stdout",
     "output_type": "stream",
     "text": [
      "Life is too short,  You need python\n",
      "Life is too short,  \n",
      "You need python\n",
      "Life is too short,  \n",
      "You need python\n"
     ]
    }
   ],
   "source": [
    "print(\"Life is too short,  You need python\")\n",
    "print(\"\"\"Life is too short,  \n",
    "You need python\"\"\")\n",
    "print('''Life is too short,  \n",
    "You need python''') # 행바꿈을 할 때 주로 사용"
   ]
  },
  {
   "cell_type": "code",
   "execution_count": 75,
   "id": "af4efdcc",
   "metadata": {},
   "outputs": [
    {
     "name": "stdout",
     "output_type": "stream",
     "text": [
      "Life's too short,  You need python\n",
      "Life is too short,  \"You need python\"\n",
      "Life is too short,  \"You need python\"\n",
      "Life's too short,  You need python\n"
     ]
    }
   ],
   "source": [
    "print(\"Life's too short,  You need python\")\n",
    "print('Life is too short,  \"You need python\"')\n",
    "print(\"Life is too short,  \\\"You need python\\\"\")\n",
    "print('Life\\'s too short,  You need python')"
   ]
  },
  {
   "cell_type": "code",
   "execution_count": 79,
   "id": "ed9a2d2e",
   "metadata": {},
   "outputs": [
    {
     "name": "stdout",
     "output_type": "stream",
     "text": [
      "Life's too short, \n",
      " You need python\n",
      "\tLife's too short, You need python\n"
     ]
    }
   ],
   "source": [
    "print(\"Life's too short, \\n You need python\")\n",
    "print(\"\\tLife's too short, You need python\")"
   ]
  },
  {
   "cell_type": "code",
   "execution_count": 87,
   "id": "a2cca952",
   "metadata": {},
   "outputs": [
    {
     "name": "stdout",
     "output_type": "stream",
     "text": [
      "Life's too short, \n",
      " You need python\n",
      "Python\n",
      "Python\n",
      "Python is fun\n",
      "Pythonis fun\n",
      "Python is fun\n",
      "========================================\n",
      "제목\n",
      "========================================\n",
      "is funis funis funis funis funis funis funis funis funis fun\n"
     ]
    }
   ],
   "source": [
    "a = \"Life's too short, \\n You need python\"\n",
    "print(a)\n",
    "head = \"Python\"\n",
    "tail = \"is fun\"\n",
    "print(\"Python\")\n",
    "print(head)\n",
    "print(\"Python is fun\")\n",
    "print(head + tail) # 문자열에서 +는 문자열 붙이기 연산자\n",
    "print(head + ' ' + tail)\n",
    "print(\"==\" * 20) # 문자열에서 *는 반복 연산자이다.\n",
    "print(\"제목\")\n",
    "print(\"==\" * 20)\n",
    "print(tail * 10)"
   ]
  },
  {
   "cell_type": "code",
   "execution_count": 96,
   "id": "1b62a893",
   "metadata": {},
   "outputs": [
    {
     "name": "stdout",
     "output_type": "stream",
     "text": [
      "1020\n",
      "Life is too short, You need Python\n",
      "34\n"
     ]
    }
   ],
   "source": [
    "##### 주의 할 사항 ######\n",
    "##str = 10\n",
    "##a = 10\n",
    "print(str(10) + \"20\")\n",
    "### 파이썬에서는 함수명과 변수명의 구별이 없다.\n",
    "### str, str()중 하나만 사용 , del 변수명 or 함수명\n",
    "str1 = \"Life is too short, You need Python\"\n",
    "print(str1)\n",
    "print(len(str1)) # len()길이함수"
   ]
  },
  {
   "cell_type": "code",
   "execution_count": 100,
   "id": "f300ea53",
   "metadata": {},
   "outputs": [
    {
     "name": "stdout",
     "output_type": "stream",
     "text": [
      "17\n",
      "s\n",
      "t\n"
     ]
    }
   ],
   "source": [
    "str1 = \"Life is too short\"\n",
    "#       01234567890123456 : index :문자열의 각문자에 붙은 번호\n",
    "#                 1\n",
    "print(len(str1)) # 17\n",
    "print(str1[6]) #변수명[index] :해당문자를 가지고 온다.\n",
    "# 마지막 문자를 출력하세요. 단, str1[16]은 사용 불가\n",
    "print(str1[ len(str1) -1 ])"
   ]
  },
  {
   "cell_type": "code",
   "execution_count": 107,
   "id": "36d54ef6",
   "metadata": {},
   "outputs": [
    {
     "name": "stdout",
     "output_type": "stream",
     "text": [
      "t\n",
      "t\n",
      "L\n",
      "L\n",
      "L\n",
      "r\n",
      "r\n",
      "L\n",
      "i\n",
      "f\n",
      "e\n",
      "Life\n"
     ]
    }
   ],
   "source": [
    "# index를 이용해서 원하는 문자를 가지고 오는것을 \n",
    "# indexing이라고 한다.\n",
    "# index는 문자열 리터널의 문자에 붙는 고유의 번호\n",
    "a = \"Life is too short\"\n",
    "#    01234567890123456\n",
    "#              1\n",
    "#    76543210987654321 -\n",
    "#           1\n",
    "print(a[16])\n",
    "print(a[-1])\n",
    "print(a[0])\n",
    "print(a[-17])\n",
    "print(a[-len(a)])\n",
    "#print(a[len(a) - 2])와 같은 index를 모두 쓰시오.\n",
    "print(a[15]); print(a[-2])\n",
    "# index를 이용해서 'Life'를 출력하시오.\n",
    "print(a[0]);print(a[1]);print(a[2]);print(a[3]);\n",
    "print(a[0] + a[1] + a[2] + a[3])"
   ]
  },
  {
   "cell_type": "code",
   "execution_count": 112,
   "id": "785f2ff5",
   "metadata": {},
   "outputs": [
    {
     "name": "stdout",
     "output_type": "stream",
     "text": [
      "Life\n",
      "Life\n",
      "too s\n",
      "too s\n"
     ]
    }
   ],
   "source": [
    "# slicing\n",
    "a = \"Life is too short\"\n",
    "#    01234567890123456\n",
    "#              1\n",
    "#    76543210987654321 -\n",
    "#           1\n",
    "print(a[0: 4]) # 0부터 4전까지\n",
    "print(a[0: 0 + 4]) # 0번부터 4글자, 0부터 4번전까지\n",
    "# 8번째 5글자 가져오기\n",
    "print(a[8 : 8 + 5]) # 8번부터 5글자, 8부터 13전까지\n",
    "print(a[8 : 13]) # print(a[5: 5 + n]):5번부터 n개의 글자"
   ]
  },
  {
   "cell_type": "code",
   "execution_count": 117,
   "id": "f114a33b",
   "metadata": {},
   "outputs": [
    {
     "name": "stdout",
     "output_type": "stream",
     "text": [
      "Life\n",
      "Life\n",
      "Life\n",
      "too short\n",
      "too short\n",
      "too short\n",
      "too short\n",
      "Life\n"
     ]
    }
   ],
   "source": [
    "a = \"Life is too short\"\n",
    "#    01234567890123456\n",
    "#              1\n",
    "#    76543210987654321 -\n",
    "#           1\n",
    "# 0번부터 4글자를 가지고 오시오\n",
    "print(a[0:4])\n",
    "print(a[:4])\n",
    "print(a[:-13])\n",
    "# index 8번부터 마지막까지\n",
    "print(a[8:17])\n",
    "print(a[8:len(a)])\n",
    "print(a[8:]) \n",
    "print(a[-9:]) \n",
    "print(a[-17: -17 + 4])\n",
    "print(a[-17 :-13])\n",
    "# too를 가지고 오시오\n",
    "print(a[8:11])\n",
    "print(a[8 : 8 + 3])\n",
    "print(a[-9 : 8 + 3])\n",
    "print(a[-9 : -9 + 3])\n",
    "print(a[-9 : 11])\n",
    "print(a[-9 : -6])\n",
    "print(a[8 : -6])"
   ]
  },
  {
   "cell_type": "code",
   "execution_count": 120,
   "id": "166f45f4",
   "metadata": {},
   "outputs": [
    {
     "name": "stdout",
     "output_type": "stream",
     "text": [
      "20010331\n",
      "Rainy\n",
      "pithon\n",
      "i\n"
     ]
    },
    {
     "ename": "TypeError",
     "evalue": "'str' object does not support item assignment",
     "output_type": "error",
     "traceback": [
      "\u001b[1;31m---------------------------------------------------------------------------\u001b[0m",
      "\u001b[1;31mTypeError\u001b[0m                                 Traceback (most recent call last)",
      "Cell \u001b[1;32mIn[120], line 8\u001b[0m\n\u001b[0;32m      6\u001b[0m \u001b[38;5;28mprint\u001b[39m(a)\n\u001b[0;32m      7\u001b[0m \u001b[38;5;28mprint\u001b[39m(a[\u001b[38;5;241m1\u001b[39m])\n\u001b[1;32m----> 8\u001b[0m \u001b[43ma\u001b[49m\u001b[43m[\u001b[49m\u001b[38;5;241;43m1\u001b[39;49m\u001b[43m]\u001b[49m \u001b[38;5;241m=\u001b[39m \u001b[38;5;124m'\u001b[39m\u001b[38;5;124my\u001b[39m\u001b[38;5;124m'\u001b[39m\n",
      "\u001b[1;31mTypeError\u001b[0m: 'str' object does not support item assignment"
     ]
    }
   ],
   "source": [
    "# 날짜와 이름을 분리하여 출력\n",
    "a = \"20010331Rainy\"\n",
    "print(a[:8])\n",
    "print(a[8:])\n",
    "a = 'pithon' \n",
    "# 문자열은 한 덩어리이므로 문자열에서 문자하나만 변경안됨.\n",
    "print(a)\n",
    "print(a[1])\n",
    "a[1] = 'y'"
   ]
  },
  {
   "cell_type": "code",
   "execution_count": 124,
   "id": "12a3e0e0",
   "metadata": {},
   "outputs": [
    {
     "name": "stdout",
     "output_type": "stream",
     "text": [
      "Life is short\n",
      "나의 나이는 30살입니다.\n",
      "나의 나이는 30살입니다.\n"
     ]
    }
   ],
   "source": [
    "# 문자열 포매팅\n",
    "print(\"Life is short\")\n",
    "print(\"나의 나이는 30살입니다.\")\n",
    "a = 40\n",
    "print(\"나의 나이는 30살입니다.\")"
   ]
  },
  {
   "cell_type": "code",
   "execution_count": 135,
   "id": "99e15fad",
   "metadata": {},
   "outputs": [
    {
     "name": "stdout",
     "output_type": "stream",
     "text": [
      "이숭무의 계좌번호는 1111이고 잔액은 100입니다.\n",
      "이숭무의 계좌번호는 1111이고 잔액은 100입니다.\n",
      "이숭무의 계좌번호는 1111이고 잔액은 1000입니다.\n",
      "이숭무의 나이는 25살이고 키는 175.300000입니다\n",
      "이숭무의 나이는 25살이고 키는 175.300000입니다\n",
      "이숭무의 나이는 25살이고 키는 175.3입니다\n",
      "이숭무의 나이는 25살이고 키는 175.30입니다\n",
      "이숭무의 나이는 25살이고 키는 175.30입니다\n",
      "이숭무의 나이는 25살이고 키는 175.3입니다\n"
     ]
    }
   ],
   "source": [
    "account = '1111'\n",
    "name = '이숭무'\n",
    "money = 100\n",
    "### 이숭무의 계좌번호는 1111이고 잔액은 100입니다.\n",
    "print(name+\"의 계좌번호는 \" + account + \\\n",
    "      \"이고 잔액은 \"+str(money)+\"입니다.\")\n",
    "print(\"%s의 계좌번호는 %s이고 잔액은 %d입니다.\" % \\\n",
    "      (name,account,money))\n",
    "print(\"%s의 계좌번호는 %s이고 잔액은 %d입니다.\" % \\\n",
    "      (\"이숭무\",\"1111\",1000))\n",
    "## 포맷문자 : %s문자열, %d정수 , %c 문자, %f실수\n",
    "age = 25\n",
    "height = 175.3\n",
    "\"이숭무의 나이는 25살이고 키는 175.3입니다\"\n",
    "print(\"%s의 나이는 %d살이고 키는 %f입니다\" % \\\n",
    "      (name, age, height))\n",
    "str1 = \"%s의 나이는 %d살이고 키는 %f입니다\" % \\\n",
    "      (name, age, height)\n",
    "print(str1)\n",
    "### %f는 정확도를 위해서 소수점 6자리까지 나옴\n",
    "print(\"%s의 나이는 %d살이고 키는 %5.1f입니다\" % \\\n",
    "      (name, age, height))\n",
    "print(\"%s의 나이는 %d살이고 키는 %5.2f입니다\" % \\\n",
    "      (name, age, height))\n",
    "#### 정수부의 출력자리가 모자른 경우 정수부 다 출력\n",
    "print(\"%s의 나이는 %d살이고 키는 %.2f입니다\" % \\\n",
    "      (name, age, height))\n",
    "print(\"%s의 나이는 %s살이고 키는 %s입니다\" % \\\n",
    "      (name, age, height))"
   ]
  },
  {
   "cell_type": "code",
   "execution_count": 141,
   "id": "060676fd",
   "metadata": {},
   "outputs": [
    {
     "name": "stdout",
     "output_type": "stream",
     "text": [
      "이숭무       의 나이는         25살이고 키는 175.300000입니다\n"
     ]
    }
   ],
   "source": [
    "#-는 왼쪽정렬, +는 오른쪽 정렬\n",
    "print(\"%-10s의 나이는 %10d살이고 키는 %f입니다\" % \\\n",
    "      (name, age, height))"
   ]
  },
  {
   "cell_type": "code",
   "execution_count": 151,
   "id": "9fd95ff8",
   "metadata": {},
   "outputs": [
    {
     "name": "stdout",
     "output_type": "stream",
     "text": [
      "이숭무님의 나이는 25살이고요 키는 175.300000입니다\n",
      "이숭무님의 나이는 25살이고요 키는 175.3입니다\n",
      "이숭무님의 나이는 25살이고요 키는 175.3입니다\n"
     ]
    }
   ],
   "source": [
    "# format 함수를 사용한 포매팅\n",
    "# 문자:\"a\", 'a' , '10', \n",
    "# 숫자 : 10, 10.7 \n",
    "# 변수 : a\n",
    "# 함수 : a() , print(), str(), len(), format()\n",
    "name = '이숭무'\n",
    "age = 25\n",
    "height = 175.3\n",
    "# 이숭무님의 나이는 25살이고요 키는 175.3입니다\n",
    "# 포맷문자열 포맷팅\n",
    "print(\"%s님의 나이는 %d살이고요 키는 %f입니다\" \\\n",
    "      % (name,age,height))\n",
    "print(\"{0}님의 나이는 {1}살이고요 키는 {2}입니다\"\\\n",
    "      .format(name,age,height))\n",
    "#               0   1    2\n",
    "print(\"{1}님의 나이는 {0}살이고요 키는 {2}입니다\"\\\n",
    "      .format(age, name ,height))\n",
    "# 이숭무님의 나이는 25살이고요 이숭무의 키는 175.3입니다\n",
    "print(\"{1}님의 나이는 {0}살이고요 {1}의 키는 {2}입니다\"\\\n",
    "      .format(age, name ,height))"
   ]
  },
  {
   "cell_type": "code",
   "execution_count": 9,
   "id": "6377c065",
   "metadata": {},
   "outputs": [
    {
     "name": "stdout",
     "output_type": "stream",
     "text": [
      "이숭무님의 나이는 25살이고요 이숭무의 키는 130입니다\n"
     ]
    }
   ],
   "source": [
    "name = '이숭무'\n",
    "age = 25\n",
    "height = 175.3\n",
    "### 인덱스와 이름을 혼용해서 넣기\n",
    "print(\"{1}님의 나이는 {0}살이고요 {1}의 키는 {bbb}입니다\" \\\n",
    "      .format(age, name , bbb=130))\n",
    "#                           이름\n",
    "# print(\"{1}님의 나이는 {0}살이고요 {1}의 키는 {2}입니다\"\\\n",
    "#      .format(age, name , bbb=130))\n",
    "#print(\"{1}님의 나이는 {0}살이고요 {1}의 키는 {bbb}입니다\" \\\n",
    "#      .format(age, bbb=130, name ))\n",
    "#이름을 사용하는 경우에는 매개변수중 마지막에 있어야 한다.\n",
    "print(\"{aaa}님의 나이는 {0}살이고요 {aaa}의 키는 {bbb}입니다\" \\\n",
    "      .format(age, aaa= \"이상범\" , bbb=130))"
   ]
  },
  {
   "cell_type": "code",
   "execution_count": 14,
   "id": "586c30c7",
   "metadata": {},
   "outputs": [
    {
     "name": "stdout",
     "output_type": "stream",
     "text": [
      "이숭무님의 나이는 25살이고요 이숭무의 키는 175.3입니다\n",
      "이숭무님의 나이는 25살이고요 이숭무의 키는 175.3입니다\n"
     ]
    }
   ],
   "source": [
    "### f 문자열 포매팅\n",
    "name = '이숭무'\n",
    "age = 25\n",
    "height = 175.3\n",
    "str1 = f\"{name}님의 나이는 {age}살이고요 {name}의 키는 {height}입니다\"\n",
    "print(str1)\n",
    "print(f\"{name}님의 나이는 {age}살이고요 {name}의 키는 {height}입니다\")"
   ]
  },
  {
   "cell_type": "code",
   "execution_count": null,
   "id": "ea04db9f",
   "metadata": {},
   "outputs": [],
   "source": [
    "# 포매팅\n",
    "# 1. 포맷문자열을 이용한 포맷팅\n",
    "# 2. format()함수를 이용한 포맷팅\n",
    "# 3. f문자를 이용한 포맷팅\n",
    "\n",
    "### 문자추출하는 방법 : indexing , slicing\n",
    "### 문자열 연산자 : + , *"
   ]
  },
  {
   "cell_type": "code",
   "execution_count": 18,
   "id": "42f07542",
   "metadata": {},
   "outputs": [
    {
     "name": "stdout",
     "output_type": "stream",
     "text": [
      "5\n",
      "5\n",
      "2\n",
      "2\n"
     ]
    }
   ],
   "source": [
    "### 문자열 가공하기 :  문자열 함수\n",
    "a = \"hobby\"\n",
    "#    01234\n",
    "#문자열의 크기\n",
    "print(len(a))\n",
    "print(len(\"hobby\"))\n",
    "###  문자열에 특정 문자의 갯수\n",
    "# 문자열에 b라는 문자가 몇개 있는지 확인\n",
    "print(a.count('b'))\n",
    "print(\"hobby\".count('b'))"
   ]
  },
  {
   "cell_type": "code",
   "execution_count": 26,
   "id": "7b42016c",
   "metadata": {},
   "outputs": [
    {
     "name": "stdout",
     "output_type": "stream",
     "text": [
      "too\n",
      "8\n",
      "too\n",
      "1\n",
      "if\n",
      "5\n",
      "is\n",
      "5\n",
      "8\n"
     ]
    }
   ],
   "source": [
    "a = \"Life is too short\"\n",
    "#    01234567890123456\n",
    "#              1\n",
    "#index를 모른다 가정\n",
    "# too가 있다면 출력\n",
    "print(a[8:8+3])\n",
    "print(a.index('t'))\n",
    "print(a[ a.index('t') : a.index('t') + 3 ])\n",
    "\n",
    "print(a.index('i'))\n",
    "print(a[ a.index('i') : a.index('i')  + 2])\n",
    "print(a.rindex('i'))\n",
    "print(a[ a.rindex('i') : a.rindex('i')  + 2])\n",
    "print(a.index('i' , 2)) # index 2번부터 찾기 \n",
    "\n",
    "print(a.index('too')) # t문자의 index"
   ]
  },
  {
   "cell_type": "code",
   "execution_count": 40,
   "id": "99ae1909",
   "metadata": {},
   "outputs": [
    {
     "name": "stdout",
     "output_type": "stream",
     "text": [
      "8\n",
      "8\n",
      "8\n",
      "1\n",
      "5\n",
      "5\n",
      "-1\n",
      "5\n"
     ]
    }
   ],
   "source": [
    "b = \"Life is too short\"\n",
    "#index를 모른다 가정\n",
    "# too가 있다면 출력\n",
    "print(b.index('too'))\n",
    "print(b.find('too'))\n",
    "print(b.find('t'))\n",
    "print(b.find('i'))\n",
    "print(b.find('i', 2))\n",
    "print(b.rfind('i'))\n",
    "\n",
    "print(b.find('k')) # 없는 문자열은 -1\n",
    "#print(b.index('k')) 없는 문자열은 오류 발생\n",
    "\n",
    "print(b.find('i', b.find('i') + 1))"
   ]
  },
  {
   "cell_type": "code",
   "execution_count": 45,
   "id": "97272600",
   "metadata": {},
   "outputs": [
    {
     "name": "stdout",
     "output_type": "stream",
     "text": [
      "life is too short\n",
      "life is too short\n",
      "LIFE IS TOO SHORT\n",
      "LIFE IS TOO SHORT\n"
     ]
    }
   ],
   "source": [
    "b = \"Life is too short\"\n",
    "# 모두 소문자로 가져오기\n",
    "result = b.lower();\n",
    "print(result)\n",
    "print(b.lower())\n",
    "\n",
    "# 모두 대문자로 가져오기\n",
    "result = b.upper()\n",
    "print(result)\n",
    "print(b.upper())"
   ]
  },
  {
   "cell_type": "code",
   "execution_count": 55,
   "id": "b585c1ea",
   "metadata": {},
   "outputs": [
    {
     "name": "stdout",
     "output_type": "stream",
     "text": [
      " abcd \n",
      "abcd\n",
      "이 숭무\n",
      "이 숭무 \n",
      " 이 숭무\n",
      "cdabef\n"
     ]
    }
   ],
   "source": [
    "c = ' abcd '\n",
    "print(c)\n",
    "result = c.strip()\n",
    "print(result)\n",
    "d = ' 이 숭무 '\n",
    "result = d.strip()\n",
    "print(result)\n",
    "result = d.lstrip()\n",
    "print(result)\n",
    "result = d.rstrip()\n",
    "print(result)\n",
    "f = 'abcdabefab';\n",
    "result = f.strip('ab')\n",
    "print(result)"
   ]
  },
  {
   "cell_type": "code",
   "execution_count": 57,
   "id": "7673598b",
   "metadata": {},
   "outputs": [
    {
     "name": "stdout",
     "output_type": "stream",
     "text": [
      "Your leg is too short\n",
      "Life is too short\n"
     ]
    }
   ],
   "source": [
    "b = \"Life is too short\"\n",
    "# \"Life\"를 \"Your leg\"로 변경\n",
    "result = b.replace('Life', 'Your leg');\n",
    "print(result)\n",
    "print(b)"
   ]
  },
  {
   "cell_type": "code",
   "execution_count": 61,
   "id": "2dd27213",
   "metadata": {},
   "outputs": [
    {
     "name": "stdout",
     "output_type": "stream",
     "text": [
      "['Life', 'is', 'too', 'short']\n",
      "['Life', 'is', 'too', 'short']\n"
     ]
    }
   ],
   "source": [
    "# 쪼개기\n",
    "result = b.split() # ['Life', 'is', 'too', 'short'] : 리스트\n",
    "print(result)\n",
    "c = \"Life:is:too:short\"\n",
    "result = c.split(':') # split을 한 결과는 리스트가 된다.\n",
    "print(result)"
   ]
  },
  {
   "cell_type": "code",
   "execution_count": 65,
   "id": "9bfd66e6",
   "metadata": {},
   "outputs": [
    {
     "name": "stdout",
     "output_type": "stream",
     "text": [
      "[1, 2, 3, 4, 5]\n",
      "['Life', 'is', 'too', 'short']\n",
      "10\n",
      "[]\n"
     ]
    }
   ],
   "source": [
    "# 자료형 \n",
    "#       리터널 : 자연어\n",
    "# 정수형 자료형 : 정수 리터널 (10, 111) , \"10\"(x)\n",
    "# 실수형 자료형 : 실수 리터널  (1.32, 0.44) , \"0.44\"(x)\n",
    "# 문자형 자료형 : 문자열 리터널 :'',\"\",'''''',\"\"\"\"\"\", \"a\", a(x)\n",
    "\n",
    "# 리스트형 자료형 : []\n",
    "# [1, 2, 3, 4, 5] : 정수형 리스트\n",
    "# ['Life', 'is', 'too', 'short'] : 문자열형 리스트\n",
    "# [1,2,'Life', 'is',10.3] : 혼합형 리스트\n",
    "# [ [1,2], 4,5, [6,7]] : 리스트를 포함하고 있는 리스트\n",
    "l = [1,2,3,4,5] # 리스트 자료형\n",
    "print(l)\n",
    "c = \"Life:is:too:short\"\n",
    "result = c.split(\":\")\n",
    "print(result)\n",
    "\n",
    "a  = 10 \n",
    "print(a)\n",
    "# 리스트는 한개 이상의 값을 가질 수 있다.\n",
    "l = [1]\n",
    "l = [1,2,3]\n",
    "l = [] # 빈리스트\n",
    "print(l)"
   ]
  },
  {
   "cell_type": "code",
   "execution_count": 73,
   "id": "52843ca0",
   "metadata": {},
   "outputs": [
    {
     "name": "stdout",
     "output_type": "stream",
     "text": [
      "e\n",
      "fe\n",
      "1\n",
      "11\n",
      "1\n",
      "21\n",
      "3\n",
      "5\n",
      "8\n"
     ]
    }
   ],
   "source": [
    "a = \"Life is too short\"\n",
    "#    01234567890123456\n",
    "#              1\n",
    "#    76543210987654321 -\n",
    "#           1\n",
    "print(a[3])\n",
    "print(a[2:4])\n",
    "\n",
    "l = [1,2,3,4,5,6] # 리스트 안에 있는 값을 요소\n",
    "#    0 1 2 3 4 5  # 요소번호 \n",
    "#    6 5 4 3 2 1 -\n",
    "print(l[0]) # indexing\n",
    "print(l[0] + 10)\n",
    "print(l[-6])\n",
    "print(l[-6] + 20)\n",
    "print(l[2])\n",
    "print(l[4])\n",
    "print(l[2] + l[4])"
   ]
  },
  {
   "cell_type": "code",
   "execution_count": 78,
   "id": "8406bf32",
   "metadata": {},
   "outputs": [
    {
     "name": "stdout",
     "output_type": "stream",
     "text": [
      "Life\n",
      "short\n",
      "Lifeshort\n",
      "too\n"
     ]
    }
   ],
   "source": [
    "l1 = ['Life', 'is', 'too', 'short']\n",
    "#       0      1      2       3\n",
    "print(l1[0])\n",
    "print(l1[3])\n",
    "print(l1[0] + l1[3])\n",
    "print(l1[-2])"
   ]
  },
  {
   "cell_type": "code",
   "execution_count": 81,
   "id": "e598cc81",
   "metadata": {},
   "outputs": [
    {
     "name": "stdout",
     "output_type": "stream",
     "text": [
      "['a', 'b', 'c']\n",
      "c\n",
      "c\n",
      "c\n",
      "c\n",
      "c\n"
     ]
    }
   ],
   "source": [
    "a = [1, 2, 3, ['a', 'b', 'c']]\n",
    "#    0  1  2         3\n",
    "#               0    1    2\n",
    "#    4  3  2         1       -\n",
    "#               3    2    1  -              \n",
    "# c를 출력해보세요.\n",
    "l2 = a[3]\n",
    "print(l2) # ['a', 'b', 'c']\n",
    "          #   0    1    2\n",
    "print(l2[2])\n",
    "print(a[3][2])\n",
    "print(a[3][-1])\n",
    "print(a[-1][2])\n",
    "print(a[-1][-1])"
   ]
  },
  {
   "cell_type": "code",
   "execution_count": 84,
   "id": "d5705b6e",
   "metadata": {},
   "outputs": [
    {
     "name": "stdout",
     "output_type": "stream",
     "text": [
      "Life\n",
      "f\n",
      "f\n"
     ]
    }
   ],
   "source": [
    "a = [1, 2, ['a', 'b', ['Life', 'is']]]\n",
    "#    0  1              2\n",
    "#            0    1          2\n",
    "#                         0      1\n",
    "# 'Life'를 출력하세요.\n",
    "print(a[2][2][0]) # Life\n",
    "\n",
    "# f를 출력\n",
    "print('life'[2])\n",
    "print(a[2][2][0][2])"
   ]
  },
  {
   "cell_type": "code",
   "execution_count": 90,
   "id": "d7f3299c",
   "metadata": {},
   "outputs": [
    {
     "name": "stdout",
     "output_type": "stream",
     "text": [
      "fe\n",
      "[2, 3]\n",
      "3\n",
      "[3]\n",
      "7\n",
      "[3, 4]\n"
     ]
    }
   ],
   "source": [
    "### 리스트의 슬라이싱\n",
    "a ='Life is too short'\n",
    "#   01234567890123456\n",
    "#             1\n",
    "print(a[2:2+2])\n",
    "\n",
    "l = [1,2,3,4,5]\n",
    "#    0 1 2 3 4\n",
    "print(l[1:1+2])\n",
    "print(l[2]) # indexing을 요소의 값으로 받아온다.\n",
    "print(l[2: 2 + 1]) # slicing을 하면 리스트로 받아온다.\n",
    "print(l[2] + l[3])\n",
    "\n",
    "print(l[2: 2 + 1] + l[3:3+1]) # 리스트와 리스트의 연산"
   ]
  },
  {
   "cell_type": "code",
   "execution_count": 93,
   "id": "0ffe4b3c",
   "metadata": {},
   "outputs": [
    {
     "name": "stdout",
     "output_type": "stream",
     "text": [
      "[3, ['a', 'b', 'c'], 4]\n",
      "['a', 'b', 'c']\n",
      "b\n",
      "['b', 'c']\n"
     ]
    }
   ],
   "source": [
    "a = [1, 2, 3, ['a', 'b', 'c'], 4, 5]\n",
    "#    0  1  2          3        4  5\n",
    "\n",
    "# [3, ['a', 'b', 'c'], 4]를 출력\n",
    "#  0        1          2\n",
    "print(a[2: 2 + 3])\n",
    "\n",
    "# ['a', 'b', 'c']를 출력\n",
    "#   0    1    2\n",
    "print(a[2: 2+ 3][1])\n",
    "\n",
    "# 'b'를 출력\n",
    "print(a[2: 2+ 3][1][1])\n",
    "\n",
    "# ['b', 'c']를 출력하세요\n",
    "print(a[2: 2+ 3][1][1:1+2])"
   ]
  }
 ],
 "metadata": {
  "kernelspec": {
   "display_name": "Python 3 (ipykernel)",
   "language": "python",
   "name": "python3"
  },
  "language_info": {
   "codemirror_mode": {
    "name": "ipython",
    "version": 3
   },
   "file_extension": ".py",
   "mimetype": "text/x-python",
   "name": "python",
   "nbconvert_exporter": "python",
   "pygments_lexer": "ipython3",
   "version": "3.11.2"
  }
 },
 "nbformat": 4,
 "nbformat_minor": 5
}
