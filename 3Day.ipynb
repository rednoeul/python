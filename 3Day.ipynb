{
 "cells": [
  {
   "cell_type": "code",
   "execution_count": 1,
   "id": "3bc62223",
   "metadata": {},
   "outputs": [
    {
     "name": "stderr",
     "output_type": "stream",
     "text": [
      "C:\\Users\\soldesk\\AppData\\Local\\Temp\\ipykernel_3544\\1014303460.py:1: DeprecationWarning: Importing display from IPython.core.display is deprecated since IPython 7.14, please import from IPython display\n",
      "  from IPython.core.display import display, HTML\n"
     ]
    },
    {
     "data": {
      "text/html": [
       "<style>\n",
       "div.container { width:100% !important; }\n",
       "div.CodeMirror {font-family: Consolas; font-size: 30pt;}\n",
       "div.output { font-size: 20pt; font-weight: bold;}\n",
       "div.input { font-family: Consolas; font-size: 30pt;}\n",
       "div.prompt { min-width: 100px;}\n",
       "</style>\n"
      ],
      "text/plain": [
       "<IPython.core.display.HTML object>"
      ]
     },
     "metadata": {},
     "output_type": "display_data"
    }
   ],
   "source": [
    "from IPython.core.display import display, HTML\n",
    "display(HTML(\n",
    "\"\"\"<style>\n",
    "div.container { width:100% !important; }\n",
    "div.CodeMirror {font-family: Consolas; font-size: 30pt;}\n",
    "div.output { font-size: 20pt; font-weight: bold;}\n",
    "div.input { font-family: Consolas; font-size: 30pt;}\n",
    "div.prompt { min-width: 100px;}\n",
    "</style>\n",
    "\"\"\"))"
   ]
  },
  {
   "cell_type": "code",
   "execution_count": 3,
   "id": "355a0b39",
   "metadata": {},
   "outputs": [
    {
     "name": "stdout",
     "output_type": "stream",
     "text": [
      "success\n",
      "success\n"
     ]
    }
   ],
   "source": [
    "'''\n",
    "score가 60이면 message 변수에 success를 아니면 message 에 failure를 저장한 후 출력\n",
    "'''\n",
    "score = 75\n",
    "if score >= 60:\n",
    "    message = \"success\"\n",
    "else:\n",
    "    message = \"failure\"\n",
    "print(message)\n",
    "\n",
    "message = \"success\" if score >= 60 else \"failure\"\n",
    "print(message)"
   ]
  },
  {
   "cell_type": "code",
   "execution_count": 5,
   "id": "3e183a5a",
   "metadata": {},
   "outputs": [
    {
     "name": "stdout",
     "output_type": "stream",
     "text": [
      "30\n"
     ]
    }
   ],
   "source": [
    "# 사직연산\n",
    "a  = 10; b = 20; opt = \"add\"\n",
    "if opt == \"add\":\n",
    "    result = a + b\n",
    "elif opt == \"sub\":\n",
    "    result = a - b\n",
    "elif opt == \"mul\":\n",
    "    result = a * b\n",
    "else:\n",
    "    result = a / b\n",
    "print(result)"
   ]
  },
  {
   "cell_type": "code",
   "execution_count": 6,
   "id": "63868614",
   "metadata": {},
   "outputs": [
    {
     "name": "stdout",
     "output_type": "stream",
     "text": [
      "30\n"
     ]
    }
   ],
   "source": [
    "if opt == \"add\":\n",
    "    result = a + b\n",
    "else:\n",
    "    if opt == \"sub\":\n",
    "        result = a - b\n",
    "    else:\n",
    "        if opt == \"mul\":\n",
    "            result = a * b\n",
    "        else:\n",
    "            result = a / b\n",
    "print(result)"
   ]
  },
  {
   "cell_type": "code",
   "execution_count": 7,
   "id": "9eb80fe8",
   "metadata": {},
   "outputs": [
    {
     "name": "stdout",
     "output_type": "stream",
     "text": [
      "30\n"
     ]
    }
   ],
   "source": [
    "### 파이썬 스타일\n",
    "result = a + b if opt == \"add\" else ( a - b if opt == \"sub\"\n",
    "                               else ( a * b if opt == \"mul\"\n",
    "                               else a / b)\n",
    "                            )\n",
    "print(result)"
   ]
  },
  {
   "cell_type": "code",
   "execution_count": 8,
   "id": "6a6dbda0",
   "metadata": {},
   "outputs": [
    {
     "name": "stdout",
     "output_type": "stream",
     "text": [
      "나무를 1번 찍었습니다.\n",
      "나무를 2번 찍었습니다.\n",
      "나무를 3번 찍었습니다.\n",
      "나무를 4번 찍었습니다.\n",
      "나무를 5번 찍었습니다.\n",
      "나무를 6번 찍었습니다.\n",
      "나무를 7번 찍었습니다.\n",
      "나무를 8번 찍었습니다.\n",
      "나무를 9번 찍었습니다.\n",
      "나무를 10번 찍었습니다.\n",
      "나무가 넘어갑니다.\n"
     ]
    }
   ],
   "source": [
    "### 반복문\n",
    "print(\"나무를 1번 찍었습니다.\")\n",
    "print(\"나무를 2번 찍었습니다.\")\n",
    "print(\"나무를 3번 찍었습니다.\")\n",
    "print(\"나무를 4번 찍었습니다.\")\n",
    "print(\"나무를 5번 찍었습니다.\")\n",
    "print(\"나무를 6번 찍었습니다.\")\n",
    "print(\"나무를 7번 찍었습니다.\")\n",
    "print(\"나무를 8번 찍었습니다.\")\n",
    "print(\"나무를 9번 찍었습니다.\")\n",
    "print(\"나무를 10번 찍었습니다.\")\n",
    "print(\"나무가 넘어갑니다.\")"
   ]
  },
  {
   "cell_type": "code",
   "execution_count": 13,
   "id": "b2bf4b0c",
   "metadata": {},
   "outputs": [
    {
     "name": "stdout",
     "output_type": "stream",
     "text": [
      "나무를 1번 찍었습니다.\n",
      "나무를 2번 찍었습니다.\n",
      "나무를 3번 찍었습니다.\n",
      "나무를 4번 찍었습니다.\n",
      "나무를 5번 찍었습니다.\n",
      "나무를 6번 찍었습니다.\n",
      "나무를 7번 찍었습니다.\n",
      "나무를 8번 찍었습니다.\n",
      "나무를 9번 찍었습니다.\n",
      "나무를 10번 찍었습니다.\n",
      "나무가 넘어갑니다.\n"
     ]
    },
    {
     "data": {
      "text/plain": [
       "'\\n반복문\\n반복적인 명령문이 있는 경우 한번만 사용해도 똑 같은 결과를 얻도록 하는 것이\\n반복문이다. while, for\\n'"
      ]
     },
     "execution_count": 13,
     "metadata": {},
     "output_type": "execute_result"
    }
   ],
   "source": [
    "# print(\"나무를 i번 찍었습니다.\")를 10번실행\n",
    "i = 1\n",
    "while i <= 10:\n",
    "    #print(f\"나무를 {i}번 찍었습니다.\")\n",
    "    #print(\"나무를 %d번 찍었습니다.\" % i)\n",
    "    #print(\"나무를 {0}번 찍었습니다.\".format(i))\n",
    "    print(\"나무를 {num}번 찍었습니다.\".format(num=i))\n",
    "    i+=1\n",
    "print(\"나무가 넘어갑니다.\")\n",
    "'''\n",
    "반복문\n",
    "반복적인 명령문이 있는 경우 한번만 사용해도 똑 같은 결과를 얻도록 하는 것이\n",
    "반복문이다. while, for\n",
    "'''"
   ]
  },
  {
   "cell_type": "code",
   "execution_count": 21,
   "id": "3a07d592",
   "metadata": {},
   "outputs": [
    {
     "name": "stdout",
     "output_type": "stream",
     "text": [
      "8  * 1 = 8\n",
      "8  * 2 = 16\n",
      "8  * 3 = 24\n",
      "8  * 4 = 32\n",
      "8  * 5 = 40\n",
      "8  * 6 = 48\n",
      "8  * 7 = 56\n",
      "8  * 8 = 64\n",
      "8  * 9 = 72\n",
      "============================================================\n",
      "2  * 1 = 8\n",
      "2  * 2 = 16\n",
      "2  * 3 = 24\n",
      "2  * 4 = 32\n",
      "2  * 5 = 40\n",
      "2  * 6 = 48\n",
      "2  * 7 = 56\n",
      "2  * 8 = 64\n",
      "2  * 9 = 72\n"
     ]
    }
   ],
   "source": [
    "'''\n",
    "8단 출력\n",
    "8  * 1 = 8\n",
    "8  * 2 = 16\n",
    "8  * 3 = 24\n",
    "8  * 4 = 32\n",
    "8  * 5 = 40\n",
    "8  * 6 = 48\n",
    "8  * 7 = 56\n",
    "8  * 8 = 64\n",
    "8  * 9 = 72\n",
    "'''\n",
    "print(f\"8  * 1 = {8 * 1}\")\n",
    "print(f\"8  * 2 = {8 * 2}\")\n",
    "print(f\"8  * 3 = {8 * 3}\")\n",
    "print(f\"8  * 4 = {8 * 4}\")\n",
    "print(f\"8  * 5 = {8 * 5}\")\n",
    "print(f\"8  * 6 = {8 * 6}\")\n",
    "print(f\"8  * 7 = {8 * 7}\")\n",
    "print(f\"8  * 8 = {8 * 8}\")\n",
    "print(f\"8  * 9 = {8 * 9}\")\n",
    "# print(f\"8  * i = {8 * i}\")\n",
    "print(\"==\" * 30)\n",
    "i = 1\n",
    "while i <= 9:\n",
    "    print(f\"8  * {i} = {8 * i}\")\n",
    "    i += 1"
   ]
  },
  {
   "cell_type": "code",
   "execution_count": 29,
   "id": "3d2bd9ae",
   "metadata": {},
   "outputs": [
    {
     "name": "stdout",
     "output_type": "stream",
     "text": [
      "단을 입력해주세요.4\n",
      "4  * 1 = 4\n",
      "4  * 2 = 8\n",
      "4  * 3 = 12\n",
      "4  * 4 = 16\n",
      "4  * 5 = 20\n",
      "4  * 6 = 24\n",
      "4  * 7 = 28\n",
      "4  * 8 = 32\n",
      "4  * 9 = 36\n"
     ]
    }
   ],
   "source": [
    "dan = int(input(\"단을 입력해주세요.\"))\n",
    "i = 1\n",
    "while i <= 9:\n",
    "    print(f\"{dan}  * {i} = {dan * i}\")\n",
    "    i += 1"
   ]
  },
  {
   "cell_type": "code",
   "execution_count": 32,
   "id": "4331771b",
   "metadata": {},
   "outputs": [
    {
     "name": "stdout",
     "output_type": "stream",
     "text": [
      "8  * 1 = 8\n",
      "8  * 3 = 24\n",
      "8  * 5 = 40\n",
      "8  * 7 = 56\n",
      "8  * 9 = 72\n",
      "단을 입력해주세요.3\n",
      "3  * 1 = 3\n",
      "3  * 3 = 9\n",
      "3  * 5 = 15\n",
      "3  * 7 = 21\n",
      "3  * 9 = 27\n"
     ]
    }
   ],
   "source": [
    "print(f\"8  * 1 = {8 * 1}\")\n",
    "print(f\"8  * 3 = {8 * 3}\")\n",
    "print(f\"8  * 5 = {8 * 5}\")\n",
    "print(f\"8  * 7 = {8 * 7}\")\n",
    "print(f\"8  * 9 = {8 * 9}\")\n",
    "dan = int(input(\"단을 입력해주세요.\"))\n",
    "i = 1\n",
    "while i <= 9:\n",
    "    print(f\"{dan}  * {i} = {dan * i}\")\n",
    "    i += 2"
   ]
  },
  {
   "cell_type": "code",
   "execution_count": 34,
   "id": "418afe2b",
   "metadata": {},
   "outputs": [
    {
     "name": "stdout",
     "output_type": "stream",
     "text": [
      "8  * 4 = 32\n",
      "8  * 5 = 40\n",
      "8  * 6 = 48\n",
      "8  * 7 = 56\n",
      "단을 입력해주세요.5\n",
      "시작곱을 입력해주세요.4\n",
      "마지막곱을 입력해주세요.7\n",
      "5  * 4 = 20\n",
      "5  * 5 = 25\n",
      "5  * 6 = 30\n",
      "5  * 7 = 35\n"
     ]
    }
   ],
   "source": [
    "print(f\"8  * 4 = {8 * 4}\")\n",
    "print(f\"8  * 5 = {8 * 5}\")\n",
    "print(f\"8  * 6 = {8 * 6}\")\n",
    "print(f\"8  * 7 = {8 * 7}\")\n",
    "dan = int(input(\"단을 입력해주세요.\"))\n",
    "startGup = int(input(\"시작곱을 입력해주세요.\"))\n",
    "endGup = int(input(\"마지막곱을 입력해주세요.\"))\n",
    "i = startGup\n",
    "while i <= endGup:\n",
    "    print(f\"{dan}  * {i} = {dan * i}\")\n",
    "    i += 1"
   ]
  },
  {
   "cell_type": "code",
   "execution_count": 36,
   "id": "b8d78005",
   "metadata": {},
   "outputs": [
    {
     "name": "stdout",
     "output_type": "stream",
     "text": [
      "3  * 1 = 3\n",
      "3  * 2 = 6\n",
      "3  * 3 = 9\n",
      "3  * 4 = 12\n",
      "3  * 5 = 15\n",
      "3  * 6 = 18\n",
      "3  * 7 = 21\n",
      "3  * 8 = 24\n",
      "3  * 9 = 27\n",
      "4  * 1 = 4\n",
      "4  * 2 = 8\n",
      "4  * 3 = 12\n",
      "4  * 4 = 16\n",
      "4  * 5 = 20\n",
      "4  * 6 = 24\n",
      "4  * 7 = 28\n",
      "4  * 8 = 32\n",
      "4  * 9 = 36\n",
      "5  * 1 = 5\n",
      "5  * 2 = 10\n",
      "5  * 3 = 15\n",
      "5  * 4 = 20\n",
      "5  * 5 = 25\n",
      "5  * 6 = 30\n",
      "5  * 7 = 35\n",
      "5  * 8 = 40\n",
      "5  * 9 = 45\n",
      "6  * 1 = 6\n",
      "6  * 2 = 12\n",
      "6  * 3 = 18\n",
      "6  * 4 = 24\n",
      "6  * 5 = 30\n",
      "6  * 6 = 36\n",
      "6  * 7 = 42\n",
      "6  * 8 = 48\n",
      "6  * 9 = 54\n"
     ]
    }
   ],
   "source": [
    "# 3단을 출력하시오\n",
    "i = 1\n",
    "while i <= 9:\n",
    "    print(f\"3  * {i} = {3 * i}\")\n",
    "    i += 1\n",
    "# 4단을 출력하시오\n",
    "i = 1\n",
    "while i <= 9:\n",
    "    print(f\"4  * {i} = {4 * i}\")\n",
    "    i += 1\n",
    "# 5단을 출력하시오\n",
    "i = 1\n",
    "while i <= 9:\n",
    "    print(f\"5  * {i} = {5 * i}\")\n",
    "    i += 1\n",
    "# 6단을 출력하시오\n",
    "i = 1\n",
    "while i <= 9:\n",
    "    print(f\"6  * {i} = {6 * i}\")\n",
    "    i += 1"
   ]
  },
  {
   "cell_type": "code",
   "execution_count": 38,
   "id": "0f2e9776",
   "metadata": {},
   "outputs": [
    {
     "name": "stdout",
     "output_type": "stream",
     "text": [
      "3  * 1 = 3\n",
      "3  * 2 = 6\n",
      "3  * 3 = 9\n",
      "3  * 4 = 12\n",
      "3  * 5 = 15\n",
      "3  * 6 = 18\n",
      "3  * 7 = 21\n",
      "3  * 8 = 24\n",
      "3  * 9 = 27\n",
      "4  * 1 = 4\n",
      "4  * 2 = 8\n",
      "4  * 3 = 12\n",
      "4  * 4 = 16\n",
      "4  * 5 = 20\n",
      "4  * 6 = 24\n",
      "4  * 7 = 28\n",
      "4  * 8 = 32\n",
      "4  * 9 = 36\n",
      "5  * 1 = 5\n",
      "5  * 2 = 10\n",
      "5  * 3 = 15\n",
      "5  * 4 = 20\n",
      "5  * 5 = 25\n",
      "5  * 6 = 30\n",
      "5  * 7 = 35\n",
      "5  * 8 = 40\n",
      "5  * 9 = 45\n",
      "6  * 1 = 6\n",
      "6  * 2 = 12\n",
      "6  * 3 = 18\n",
      "6  * 4 = 24\n",
      "6  * 5 = 30\n",
      "6  * 6 = 36\n",
      "6  * 7 = 42\n",
      "6  * 8 = 48\n",
      "6  * 9 = 54\n"
     ]
    }
   ],
   "source": [
    "dan = 3 # 2중 반복문\n",
    "startGup = 1\n",
    "endGup = 9\n",
    "while dan <= 6:\n",
    "    i = startGup\n",
    "    while i <= endGup:\n",
    "        print(f\"{dan}  * {i} = {dan * i}\")\n",
    "        i += 1\n",
    "    dan += 1"
   ]
  },
  {
   "cell_type": "code",
   "execution_count": 41,
   "id": "0c37bed0",
   "metadata": {},
   "outputs": [
    {
     "name": "stdout",
     "output_type": "stream",
     "text": [
      "시작단을 입력해주세요2\n",
      "마지막단을 입력해주세요.6\n",
      "시작곱을 입력해주세요4\n",
      "마지막곱을 입력해주세요8\n",
      "2  * 4 = 8\n",
      "2  * 5 = 10\n",
      "2  * 6 = 12\n",
      "2  * 7 = 14\n",
      "2  * 8 = 16\n",
      "3  * 4 = 12\n",
      "3  * 5 = 15\n",
      "3  * 6 = 18\n",
      "3  * 7 = 21\n",
      "3  * 8 = 24\n",
      "4  * 4 = 16\n",
      "4  * 5 = 20\n",
      "4  * 6 = 24\n",
      "4  * 7 = 28\n",
      "4  * 8 = 32\n",
      "5  * 4 = 20\n",
      "5  * 5 = 25\n",
      "5  * 6 = 30\n",
      "5  * 7 = 35\n",
      "5  * 8 = 40\n",
      "6  * 4 = 24\n",
      "6  * 5 = 30\n",
      "6  * 6 = 36\n",
      "6  * 7 = 42\n",
      "6  * 8 = 48\n"
     ]
    }
   ],
   "source": [
    "startDan = int(input(\"시작단을 입력해주세요\"))\n",
    "endDan = int(input(\"마지막단을 입력해주세요.\"))\n",
    "startGup = int(input(\"시작곱을 입력해주세요\"))\n",
    "endGup = int(input(\"마지막곱을 입력해주세요\"))\n",
    "\n",
    "dan = startDan\n",
    "while dan <= endDan:\n",
    "    i = startGup\n",
    "    while i <= endGup:\n",
    "        print(f\"{dan}  * {i} = {dan * i}\")\n",
    "        i += 1\n",
    "    dan += 1"
   ]
  },
  {
   "cell_type": "code",
   "execution_count": 58,
   "id": "1c81748b",
   "metadata": {
    "scrolled": true
   },
   "outputs": [
    {
     "name": "stdout",
     "output_type": "stream",
     "text": [
      "31, 9, 10, 20, 4, 13, "
     ]
    }
   ],
   "source": [
    "# 리스트 자료형과 반복문을 이용해서 로또램을 만들자\n",
    "import random # library : python으로 만든 API\n",
    "lotto = [] # 빈리스트\n",
    "i = 1 \n",
    "while i <= 45:\n",
    "    lotto.append(i)\n",
    "    i+=1\n",
    "print(lotto)\n",
    "print(f\"len(lotto) :  {len(lotto)}\")\n",
    "lottosize = len(lotto) # 45\n",
    "lottocnt = 6\n",
    "while lottocnt >= 1:\n",
    "    lottosize -= 1 # 44, 반복을 할 때마다 1씩 감소\n",
    "    idx = random.randint(0, lottosize) # 0 ~ 44 \n",
    "    lottonum =  lotto.pop(idx)\n",
    "    print(lottonum, end=\", \")\n",
    "    lottocnt -= 1"
   ]
  },
  {
   "cell_type": "code",
   "execution_count": 61,
   "id": "908651f2",
   "metadata": {},
   "outputs": [
    {
     "name": "stdout",
     "output_type": "stream",
     "text": [
      "구매 수량을 입력해주세요4\n",
      "14, 35, 6, 11, 37, 18, \n",
      "24, 22, 45, 36, 42, 25, \n",
      "24, 15, 43, 40, 5, 13, \n",
      "24, 29, 38, 30, 20, 17, \n"
     ]
    }
   ],
   "source": [
    "import random # library : python으로 만든 API\n",
    "lotto = [] # 빈리스트\n",
    "qty = int(input(\"구매 수량을 입력해주세요\"))\n",
    "cnt = 1\n",
    "while cnt <= qty:\n",
    "    i = 1 \n",
    "    while i <= 45:\n",
    "        lotto.append(i)\n",
    "        i+=1\n",
    "    lottosize = len(lotto) # 45\n",
    "    lottocnt = 6\n",
    "    while lottocnt >= 1:\n",
    "        lottosize -= 1 # 44, 반복을 할 때마다 1씩 감소\n",
    "        idx = random.randint(0, lottosize) # 0 ~ 44 \n",
    "        lottonum =  lotto.pop(idx)\n",
    "        print(lottonum, end=\", \")\n",
    "        lottocnt -= 1\n",
    "    lotto.clear()\n",
    "    cnt += 1\n",
    "    print()"
   ]
  },
  {
   "cell_type": "code",
   "execution_count": 71,
   "id": "02564423",
   "metadata": {},
   "outputs": [
    {
     "name": "stdout",
     "output_type": "stream",
     "text": [
      "5050\n"
     ]
    }
   ],
   "source": [
    "### 1 ~ 100까지의 합을 구하시오.\n",
    "i = 1\n",
    "sum1 = 0\n",
    "while i <= 100: # i가 101이 False가 되면 반복을 종료\n",
    "    sum1 += i\n",
    "    i += 1 # 101\n",
    "print(sum1)"
   ]
  },
  {
   "cell_type": "code",
   "execution_count": 72,
   "id": "b0daa6c5",
   "metadata": {},
   "outputs": [
    {
     "name": "stdout",
     "output_type": "stream",
     "text": [
      "5050\n"
     ]
    }
   ],
   "source": [
    "i = 1\n",
    "sum1 = 0\n",
    "while True:\n",
    "    if i == 101: \n",
    "        break #  반복을 강제 종료 시킴, break문을 만나면 다음 명령문은 실행되지 않는다.\n",
    "    sum1 += i\n",
    "    i += 1\n",
    "print(sum1)"
   ]
  },
  {
   "cell_type": "code",
   "execution_count": 86,
   "id": "e7e69912",
   "metadata": {},
   "outputs": [],
   "source": [
    "# 1 ~ 20중 짝수만 출력하시오,\n",
    "i = 0\n",
    "### 조건식은 관계연산이므로 bool타입이 온다.\n",
    "while i <= 20: # i가 21이 되면 더 이상 반복을 중지 : False\n",
    "    i += 1 # 1,2,3,4,5,6,7,8,9,...,21\n",
    "    if i % 2 == 1:\n",
    "        continue\n",
    "    print(i)"
   ]
  },
  {
   "cell_type": "code",
   "execution_count": 87,
   "id": "5ebd61c2",
   "metadata": {},
   "outputs": [
    {
     "name": "stdout",
     "output_type": "stream",
     "text": [
      "1\n",
      "3\n",
      "5\n",
      "7\n",
      "9\n",
      "11\n",
      "13\n",
      "15\n",
      "17\n",
      "19\n"
     ]
    }
   ],
   "source": [
    "# 1 ~ 20중 홀수만 출력하시오,\n",
    "i = 0\n",
    "while i <= 19: # i가 21이 되면 더 이상 반복을 중지 : False\n",
    "    i += 1 \n",
    "    if i % 2 == 0:\n",
    "        continue\n",
    "    print(i)"
   ]
  },
  {
   "cell_type": "code",
   "execution_count": 95,
   "id": "23de1ec4",
   "metadata": {},
   "outputs": [
    {
     "name": "stdout",
     "output_type": "stream",
     "text": [
      "2500\n",
      "2500\n",
      "2500\n"
     ]
    }
   ],
   "source": [
    "# 1 ~ 100중 홀수의 합을 구하시오. # 3방법\n",
    "i = 0\n",
    "sum1 = 0\n",
    "while i <= 99:\n",
    "    i += 1 # 101\n",
    "    if i % 2 == 0:\n",
    "        continue\n",
    "    sum1 += i \n",
    "print(sum1) # 5050\n",
    "\n",
    "i = 0\n",
    "sum1 = 0\n",
    "while i <= 99:\n",
    "    i += 1\n",
    "    if i % 2 == 1:\n",
    "        sum1 += i \n",
    "print(sum1)\n",
    "\n",
    "i = 0\n",
    "sum1 = 0\n",
    "while True:\n",
    "    i += 1\n",
    "    if i == 101:\n",
    "        break\n",
    "    if i % 2 == 0:\n",
    "        continue\n",
    "    sum1 += i\n",
    "print(sum1)"
   ]
  },
  {
   "cell_type": "code",
   "execution_count": 106,
   "id": "33517934",
   "metadata": {},
   "outputs": [
    {
     "name": "stdout",
     "output_type": "stream",
     "text": [
      "104\n"
     ]
    }
   ],
   "source": [
    "# 리스트에 있는 합을 구하시오\n",
    "l = [3, 20, 48, 33]\n",
    "sum1 = 0\n",
    "num = l[0]\n",
    "sum1 = sum1 + num\n",
    "num = l[1]\n",
    "sum1 = sum1 + num\n",
    "num = l[2]\n",
    "sum1 = sum1 + num\n",
    "num = l[3]\n",
    "sum1 = sum1 + num\n",
    "\n",
    "sum1 = 0\n",
    "idx = 0\n",
    "while idx <= 3:\n",
    "    num = l[idx]\n",
    "    sum1 = sum1 + num\n",
    "    idx += 1\n",
    "print(sum1)\n",
    "\n",
    "sum1 = 0\n",
    "idx = 0\n",
    "size = len(l) #4\n",
    "while idx < size:\n",
    "    num = l[idx]\n",
    "    idx += 1\n",
    "    sum1 = sum1 + num\n",
    "print(sum1)"
   ]
  },
  {
   "cell_type": "code",
   "execution_count": 104,
   "id": "ce81a26b",
   "metadata": {},
   "outputs": [
    {
     "name": "stdout",
     "output_type": "stream",
     "text": [
      "104\n"
     ]
    }
   ],
   "source": [
    "sum1 = 0\n",
    "for num in [3, 20, 48, 33]: # num = l[i]; i += 1;\n",
    "    sum1 += num\n",
    "print(sum1)\n",
    "\n",
    "l = [3, 20, 48, 33]\n",
    "sum1 = 0 # index를 가지고 있는 자료형에 대해서 반복을 하는 경우에 사용\n",
    "for num in l: # num = l[i]; i += 1;\n",
    "    sum1 += num\n",
    "print(sum1)"
   ]
  },
  {
   "cell_type": "code",
   "execution_count": 107,
   "id": "f2b7b91d",
   "metadata": {},
   "outputs": [
    {
     "name": "stdout",
     "output_type": "stream",
     "text": [
      "1\n",
      "43\n",
      "5\n",
      "56\n",
      "============================================================\n",
      "1\n",
      "43\n",
      "5\n",
      "56\n"
     ]
    }
   ],
   "source": [
    "t = (1, 43, 5, 56)\n",
    "i = 0\n",
    "size = len(t)\n",
    "while i < size:\n",
    "    print(t[i])\n",
    "    i += 1\n",
    "    \n",
    "print(\"==\" * 30)\n",
    "\n",
    "for num in t:\n",
    "    print(num)"
   ]
  },
  {
   "cell_type": "code",
   "execution_count": 111,
   "id": "e72e8a23",
   "metadata": {},
   "outputs": [
    {
     "name": "stdout",
     "output_type": "stream",
     "text": [
      "5050\n",
      "============================================================\n",
      "5050\n",
      "4995\n"
     ]
    }
   ],
   "source": [
    "# 1 ~ 100의 합을 구하시오.\n",
    "i = 1\n",
    "sum1 = 0\n",
    "while i <= 100:\n",
    "    sum1 += i\n",
    "    i += 1\n",
    "print(sum1)\n",
    "print(\"==\" * 30)\n",
    "\n",
    "sum1 = 0\n",
    "for num in range(1, 1 + 100):\n",
    "    sum1 += num\n",
    "print(sum1)\n",
    "\n",
    "sum1 = 0\n",
    "for num in range(11, 11 + 90 ):\n",
    "    sum1 += num\n",
    "print(sum1)"
   ]
  },
  {
   "cell_type": "code",
   "execution_count": 115,
   "id": "c64e298b",
   "metadata": {},
   "outputs": [
    {
     "name": "stdout",
     "output_type": "stream",
     "text": [
      "79.0\n",
      "============================================================\n",
      "79.0\n"
     ]
    }
   ],
   "source": [
    "# l = [70, 60, 55, 75, 95, 90, 80, 80, 85, 100] 의 평균을 구하시오\n",
    "# for 와 while\n",
    "l = [70, 60, 55, 75, 95, 90, 80, 80, 85, 100]\n",
    "# for\n",
    "sum1 = 0\n",
    "for num in l:\n",
    "    sum1 += num\n",
    "print(sum1 / len(l))\n",
    "\n",
    "print(\"==\" * 30)\n",
    "# while\n",
    "sum1 = 0\n",
    "idx = 0 # idx : index\n",
    "size = len(l)\n",
    "while idx < size:\n",
    "    sum1 += l[idx]\n",
    "    idx += 1\n",
    "print(sum1 / size)"
   ]
  },
  {
   "cell_type": "code",
   "execution_count": 118,
   "id": "c24b45ed",
   "metadata": {
    "scrolled": true
   },
   "outputs": [
    {
     "name": "stdout",
     "output_type": "stream",
     "text": [
      "(1, 2)\n",
      "(3, 4)\n",
      "(5, 6)\n",
      "============================================================\n",
      "1 2\n",
      "3\n",
      "3 4\n",
      "7\n",
      "5 6\n",
      "11\n"
     ]
    }
   ],
   "source": [
    "l1 = [(1,2),(3,4),(5,6)]\n",
    "#       0     1     2\n",
    "for t in l1:\n",
    "    print(t)\n",
    "print(\"==\" * 30)\n",
    "for (a, b) in l1:\n",
    "    print(a, b)\n",
    "    print(a + b)"
   ]
  },
  {
   "cell_type": "code",
   "execution_count": 126,
   "id": "92a64eef",
   "metadata": {},
   "outputs": [
    {
     "name": "stdout",
     "output_type": "stream",
     "text": [
      "1 2 3\n",
      "6\n",
      "4 5 6\n",
      "15\n",
      "7 8 9\n",
      "24\n",
      "(1, 2, 3)\n",
      "6\n",
      "(4, 5, 6)\n",
      "15\n",
      "(7, 8, 9)\n",
      "24\n",
      "\n"
     ]
    }
   ],
   "source": [
    "l2 = [(1,2,3),(4,5,6),(7,8,9)]\n",
    "for (a,b,c) in l2:\n",
    "    print(a,b,c)\n",
    "    print( a + b + c)\n",
    "\n",
    "for t1 in l2:\n",
    "    print(t1)\n",
    "    print(t1[0] + t1[1] + t1[2])\n",
    "''' 오류 발생    \n",
    "l2 = [(1,2,3),(4,5),(7,8,9)]\n",
    "for (a,b,c) in l2:\n",
    "    print(a,b,c)\n",
    "    print( a + b + c)\n",
    "'''\n",
    "print()"
   ]
  },
  {
   "cell_type": "code",
   "execution_count": 130,
   "id": "28cbcca0",
   "metadata": {},
   "outputs": [
    {
     "name": "stdout",
     "output_type": "stream",
     "text": [
      "3 * 1 = 3\n",
      "3 * 2 = 6\n",
      "3 * 3 = 9\n",
      "3 * 4 = 12\n",
      "3 * 5 = 15\n",
      "3 * 6 = 18\n",
      "3 * 7 = 21\n",
      "3 * 8 = 24\n",
      "3 * 9 = 27\n",
      "============================================================\n",
      "3 * 1 = 3\n",
      "3 * 2 = 6\n",
      "3 * 3 = 9\n",
      "3 * 4 = 12\n",
      "3 * 5 = 15\n",
      "3 * 6 = 18\n",
      "3 * 7 = 21\n",
      "3 * 8 = 24\n",
      "3 * 9 = 27\n"
     ]
    }
   ],
   "source": [
    "# 3단\n",
    "gup = 1\n",
    "while gup <= 9:\n",
    "    print(f\"3 * {gup} = {3 * gup}\")\n",
    "    gup += 1\n",
    "print(\"==\" * 30)\n",
    "for gup in range(1, 1 + 9) :\n",
    "    print(f\"3 * {gup} = {3 * gup}\")"
   ]
  },
  {
   "cell_type": "code",
   "execution_count": 134,
   "id": "cddb2670",
   "metadata": {},
   "outputs": [
    {
     "name": "stdout",
     "output_type": "stream",
     "text": [
      "3 * 1 = 3\n",
      "3 * 2 = 6\n",
      "3 * 3 = 9\n",
      "3 * 4 = 12\n",
      "3 * 5 = 15\n",
      "3 * 6 = 18\n",
      "3 * 7 = 21\n",
      "3 * 8 = 24\n",
      "3 * 9 = 27\n",
      "4 * 1 = 4\n",
      "4 * 2 = 8\n",
      "4 * 3 = 12\n",
      "4 * 4 = 16\n",
      "4 * 5 = 20\n",
      "4 * 6 = 24\n",
      "4 * 7 = 28\n",
      "4 * 8 = 32\n",
      "4 * 9 = 36\n",
      "5 * 1 = 5\n",
      "5 * 2 = 10\n",
      "5 * 3 = 15\n",
      "5 * 4 = 20\n",
      "5 * 5 = 25\n",
      "5 * 6 = 30\n",
      "5 * 7 = 35\n",
      "5 * 8 = 40\n",
      "5 * 9 = 45\n",
      "6 * 1 = 6\n",
      "6 * 2 = 12\n",
      "6 * 3 = 18\n",
      "6 * 4 = 24\n",
      "6 * 5 = 30\n",
      "6 * 6 = 36\n",
      "6 * 7 = 42\n",
      "6 * 8 = 48\n",
      "6 * 9 = 54\n",
      "============================================================\n",
      "3 * 1 = 3\n",
      "3 * 2 = 6\n",
      "3 * 3 = 9\n",
      "3 * 4 = 12\n",
      "3 * 5 = 15\n",
      "3 * 6 = 18\n",
      "3 * 7 = 21\n",
      "3 * 8 = 24\n",
      "3 * 9 = 27\n",
      "4 * 1 = 4\n",
      "4 * 2 = 8\n",
      "4 * 3 = 12\n",
      "4 * 4 = 16\n",
      "4 * 5 = 20\n",
      "4 * 6 = 24\n",
      "4 * 7 = 28\n",
      "4 * 8 = 32\n",
      "4 * 9 = 36\n",
      "5 * 1 = 5\n",
      "5 * 2 = 10\n",
      "5 * 3 = 15\n",
      "5 * 4 = 20\n",
      "5 * 5 = 25\n",
      "5 * 6 = 30\n",
      "5 * 7 = 35\n",
      "5 * 8 = 40\n",
      "5 * 9 = 45\n",
      "6 * 1 = 6\n",
      "6 * 2 = 12\n",
      "6 * 3 = 18\n",
      "6 * 4 = 24\n",
      "6 * 5 = 30\n",
      "6 * 6 = 36\n",
      "6 * 7 = 42\n",
      "6 * 8 = 48\n",
      "6 * 9 = 54\n",
      "============================================================\n",
      "3 * 1 = 3\n",
      "3 * 2 = 6\n",
      "3 * 3 = 9\n",
      "3 * 4 = 12\n",
      "3 * 5 = 15\n",
      "3 * 6 = 18\n",
      "3 * 7 = 21\n",
      "3 * 8 = 24\n",
      "3 * 9 = 27\n",
      "4 * 1 = 4\n",
      "4 * 2 = 8\n",
      "4 * 3 = 12\n",
      "4 * 4 = 16\n",
      "4 * 5 = 20\n",
      "4 * 6 = 24\n",
      "4 * 7 = 28\n",
      "4 * 8 = 32\n",
      "4 * 9 = 36\n",
      "5 * 1 = 5\n",
      "5 * 2 = 10\n",
      "5 * 3 = 15\n",
      "5 * 4 = 20\n",
      "5 * 5 = 25\n",
      "5 * 6 = 30\n",
      "5 * 7 = 35\n",
      "5 * 8 = 40\n",
      "5 * 9 = 45\n",
      "6 * 1 = 6\n",
      "6 * 2 = 12\n",
      "6 * 3 = 18\n",
      "6 * 4 = 24\n",
      "6 * 5 = 30\n",
      "6 * 6 = 36\n",
      "6 * 7 = 42\n",
      "6 * 8 = 48\n",
      "6 * 9 = 54\n"
     ]
    }
   ],
   "source": [
    "dan = 3\n",
    "while dan <= 6:\n",
    "    gup = 1\n",
    "    while gup <= 9:\n",
    "        print(f\"{dan} * {gup} = {dan * gup}\")\n",
    "        gup += 1\n",
    "    dan += 1\n",
    "print(\"==\" * 30)\n",
    "dan = 3\n",
    "while dan <= 6:\n",
    "    for gup in range(1, 1 + 9) :\n",
    "        print(f\"{dan} * {gup} = {dan * gup}\")\n",
    "    dan += 1\n",
    "print(\"==\" * 30)\n",
    "for dan in range(3, 3 + 4):\n",
    "    for gup in range(1, 1 + 9) :\n",
    "        print(f\"{dan} * {gup} = {dan * gup}\")"
   ]
  },
  {
   "cell_type": "code",
   "execution_count": 141,
   "id": "1da00e01",
   "metadata": {},
   "outputs": [
    {
     "name": "stdout",
     "output_type": "stream",
     "text": [
      "[1, 2, 3, 4]\n",
      "[1, 2, 3, 4]\n",
      "============================================================\n",
      "[3, 6, 9, 12]\n",
      "[3, 6, 9, 12]\n",
      "============================================================\n",
      "[6, 12]\n",
      "[6, 12]\n"
     ]
    }
   ],
   "source": [
    "# 리스트를 포함한 반복문\n",
    " # 튜플에 있는 값을 리스에 저장\n",
    "a = (1,2,3,4)\n",
    "result = []\n",
    "for num in a:\n",
    "    result.append(num)\n",
    "print(result)\n",
    "\n",
    "result = [num for num in a]\n",
    "print(result)\n",
    "print(\"==\" * 30)\n",
    "\n",
    "# 튜플에 있는 값에 3을 곱한 값을 리스트에 저장\n",
    "result = []\n",
    "for num in a:\n",
    "    result.append(num * 3)\n",
    "print(result)\n",
    "\n",
    "result =[num * 3 for num in a]\n",
    "print(result)\n",
    "print(\"==\"*30)\n",
    "\n",
    "# 튜플에 있는 짝수 값만 3을 곱한 값을 리스트에 저장\n",
    "result = [] \n",
    "for num in a:\n",
    "    if num % 2 == 0:\n",
    "        result.append(num * 3)\n",
    "print(result)\n",
    "result = [num * 3 for num in a if num % 2 == 0]        \n",
    "print(result)"
   ]
  },
  {
   "cell_type": "code",
   "execution_count": 148,
   "id": "734bbcdb",
   "metadata": {},
   "outputs": [
    {
     "name": "stdout",
     "output_type": "stream",
     "text": [
      "307\n",
      "============================================================\n",
      "307\n",
      "============================================================\n",
      "307\n",
      "============================================================\n",
      "307\n"
     ]
    }
   ],
   "source": [
    "# for문에서 index를 사용해야 하는 경우\n",
    "marks = [90, 25, 67, 45, 80]\n",
    "#         0   1   2   3   4\n",
    "sum1 = 0\n",
    "for num in marks:\n",
    "    sum1+= num\n",
    "print(sum1)\n",
    "print(\"==\" * 30)\n",
    "\n",
    "sum1 = 0\n",
    "for idx in range(0, 5):\n",
    "    sum1 +=  marks[idx]\n",
    "print(sum1)\n",
    "print(\"==\" * 30)\n",
    "\n",
    "sum1 = 0\n",
    "for idx in range(5):\n",
    "    sum1 +=  marks[idx]\n",
    "print(sum1)\n",
    "print(\"==\" * 30)\n",
    "\n",
    "sum1 = 0\n",
    "for idx in range(len(marks)): # 주로 사용하는 형식\n",
    "    sum1 +=  marks[idx]\n",
    "print(sum1)"
   ]
  },
  {
   "cell_type": "code",
   "execution_count": 152,
   "id": "caaab5c5",
   "metadata": {},
   "outputs": [
    {
     "name": "stdout",
     "output_type": "stream",
     "text": [
      "[3, 6, 9, 12, 15, 18, 21, 24, 27, 4, 8, 12, 16, 20, 24, 28, 32, 36, 5, 10, 15, 20, 25, 30, 35, 40, 45, 6, 12, 18, 24, 30, 36, 42, 48, 54]\n",
      "[3, 6, 9, 12, 15, 18, 21, 24, 27, 4, 8, 12, 16, 20, 24, 28, 32, 36, 5, 10, 15, 20, 25, 30, 35, 40, 45, 6, 12, 18, 24, 30, 36, 42, 48, 54]\n"
     ]
    }
   ],
   "source": [
    "# 3단 부터 6단의 곱을 리스트에 저장\n",
    "result = []\n",
    "for dan in range(3, 7):\n",
    "    for gup in range(1, 10):\n",
    "        result.append(dan * gup)\n",
    "print(result)\n",
    "\n",
    "# 파이썬 방식\n",
    "result  = [dan * gup for dan in range(3, 7)\n",
    "                     for gup in range(1, 10)]\n",
    "print(result)\n",
    "\n",
    "# 제어문 : 조건문 : if, if ~ else, if ~ elif ~ ... ~ else, if ~ else: if ~ else;\n",
    "#                  message = a * b if opt == \"add\"\n",
    "#          반복문: while, for , break, continue, 리스트를 포함하는 반복문"
   ]
  },
  {
   "cell_type": "code",
   "execution_count": 163,
   "id": "90dfc152",
   "metadata": {},
   "outputs": [
    {
     "name": "stdout",
     "output_type": "stream",
     "text": [
      "18\n",
      "\n"
     ]
    }
   ],
   "source": [
    "# 함수\n",
    "#  f(x, y) = 2x + 3y 라는 함수가 있을 때 (x, y : 매개변수: parameter)\n",
    "#  z = f(3, 4)  :  (3, 4 : 인자 , 실인자 , argument )\n",
    "# z값은? z = 18\n",
    "def f(x, y):\n",
    "    return 2*x + 3*y\n",
    "z = f(3, 4)\n",
    "print(z)\n",
    "'''\n",
    "# 함수 정의 : 피호출함수\n",
    "def 함수명([parameter_1, parameter_2, ..., parameter_n]):\n",
    "    명령문1\n",
    "    ...\n",
    "    명령문n\n",
    "    [return 결과값]\n",
    "    \n",
    "# 호출 함수\n",
    "result = 함수명([argument_1, argument_2, ..., argument_n])\n",
    "print(result)\n",
    "# parameter갯수와 argument갯수는 같아야 한다.\n",
    "\n",
    "함수를 만드는 이유?\n",
    "반복적으로 사용해야 하는 복잡한 코드를 함수를 정의 해 놓으면 일일이 코드를 작성하지 않아도 된다.\n",
    "코드가 정의된 함수만 호출하면 된다.\n",
    "'''\n",
    "\n",
    "print()"
   ]
  },
  {
   "cell_type": "code",
   "execution_count": null,
   "id": "370394d1",
   "metadata": {},
   "outputs": [],
   "source": [
    "# 3단 : for\n",
    "for gup in range(1, 10):\n",
    "    print(f\"3 * {gup} = {3 * gup}\")\n",
    "# 5단\n",
    "for gup in range(1, 10):\n",
    "    print(f\"5 * {gup} = {5 * gup}\")\n",
    "# 9단\n",
    "for gup in range(1, 10):\n",
    "    print(f\"9 * {gup} = {9 * gup}\")"
   ]
  },
  {
   "cell_type": "code",
   "execution_count": 160,
   "id": "36a8dbfd",
   "metadata": {},
   "outputs": [],
   "source": [
    "def gugu(dan): # 함수 정의 : 피호출함수\n",
    "    for gup in range(1, 10):\n",
    "        print(f\"{dan} * {gup} = {dan * gup}\")"
   ]
  },
  {
   "cell_type": "code",
   "execution_count": 161,
   "id": "52f72700",
   "metadata": {},
   "outputs": [
    {
     "name": "stdout",
     "output_type": "stream",
     "text": [
      "3 * 1 = 3\n",
      "3 * 2 = 6\n",
      "3 * 3 = 9\n",
      "3 * 4 = 12\n",
      "3 * 5 = 15\n",
      "3 * 6 = 18\n",
      "3 * 7 = 21\n",
      "3 * 8 = 24\n",
      "3 * 9 = 27\n"
     ]
    }
   ],
   "source": [
    "gugu(3) # 호출함수"
   ]
  },
  {
   "cell_type": "code",
   "execution_count": 162,
   "id": "a005f0d7",
   "metadata": {},
   "outputs": [
    {
     "name": "stdout",
     "output_type": "stream",
     "text": [
      "5 * 1 = 5\n",
      "5 * 2 = 10\n",
      "5 * 3 = 15\n",
      "5 * 4 = 20\n",
      "5 * 5 = 25\n",
      "5 * 6 = 30\n",
      "5 * 7 = 35\n",
      "5 * 8 = 40\n",
      "5 * 9 = 45\n"
     ]
    }
   ],
   "source": [
    "gugu(5)"
   ]
  },
  {
   "cell_type": "code",
   "execution_count": 164,
   "id": "a67b5828",
   "metadata": {},
   "outputs": [
    {
     "name": "stdout",
     "output_type": "stream",
     "text": [
      "9 * 1 = 9\n",
      "9 * 2 = 18\n",
      "9 * 3 = 27\n",
      "9 * 4 = 36\n",
      "9 * 5 = 45\n",
      "9 * 6 = 54\n",
      "9 * 7 = 63\n",
      "9 * 8 = 72\n",
      "9 * 9 = 81\n"
     ]
    }
   ],
   "source": [
    "gugu(9)"
   ]
  },
  {
   "cell_type": "code",
   "execution_count": 165,
   "id": "b80a2f71",
   "metadata": {},
   "outputs": [
    {
     "name": "stdout",
     "output_type": "stream",
     "text": [
      "100 * 1 = 100\n",
      "100 * 2 = 200\n",
      "100 * 3 = 300\n",
      "100 * 4 = 400\n",
      "100 * 5 = 500\n",
      "100 * 6 = 600\n",
      "100 * 7 = 700\n",
      "100 * 8 = 800\n",
      "100 * 9 = 900\n"
     ]
    }
   ],
   "source": [
    "gugu(100)"
   ]
  },
  {
   "cell_type": "code",
   "execution_count": 168,
   "id": "5bbaa6ed",
   "metadata": {},
   "outputs": [],
   "source": [
    "def gugu8(): # 함수 정의 : 피호출함수\n",
    "    for gup in range(1, 10):\n",
    "        print(f\"8 * {gup} = {8 * gup}\")"
   ]
  },
  {
   "cell_type": "code",
   "execution_count": 172,
   "id": "c25fb05f",
   "metadata": {},
   "outputs": [
    {
     "name": "stdout",
     "output_type": "stream",
     "text": [
      "8 * 1 = 8\n",
      "8 * 2 = 16\n",
      "8 * 3 = 24\n",
      "8 * 4 = 32\n",
      "8 * 5 = 40\n",
      "8 * 6 = 48\n",
      "8 * 7 = 56\n",
      "8 * 8 = 64\n",
      "8 * 9 = 72\n"
     ]
    }
   ],
   "source": [
    "gugu8()   "
   ]
  },
  {
   "cell_type": "code",
   "execution_count": 170,
   "id": "6c177f36",
   "metadata": {},
   "outputs": [
    {
     "name": "stdout",
     "output_type": "stream",
     "text": [
      "8 * 1 = 8\n",
      "8 * 2 = 16\n",
      "8 * 3 = 24\n",
      "8 * 4 = 32\n",
      "8 * 5 = 40\n",
      "8 * 6 = 48\n",
      "8 * 7 = 56\n",
      "8 * 8 = 64\n",
      "8 * 9 = 72\n"
     ]
    }
   ],
   "source": [
    "gugu8()"
   ]
  },
  {
   "cell_type": "code",
   "execution_count": 173,
   "id": "3eb4a383",
   "metadata": {},
   "outputs": [],
   "source": [
    "def gugu6(): # 함수 정의 : 피호출함수\n",
    "    for gup in range(1, 10):\n",
    "        print(f\"6 * {gup} = {6 * gup}\")"
   ]
  },
  {
   "cell_type": "code",
   "execution_count": null,
   "id": "0208f004",
   "metadata": {},
   "outputs": [],
   "source": [
    "gugu6()\n",
    "gugu6()\n",
    "gugu6()\n",
    "gugu8()\n",
    "gugu8()"
   ]
  },
  {
   "cell_type": "code",
   "execution_count": 178,
   "id": "186649e7",
   "metadata": {},
   "outputs": [],
   "source": [
    "# 함수를 정의하는 4가지 방식\n",
    "# 1. 입력값이 있고 결과값이 있는 함수 : 일반적인 형식 \n",
    "def add(x, y):\n",
    "    return x + y"
   ]
  },
  {
   "cell_type": "code",
   "execution_count": 179,
   "id": "433cce11",
   "metadata": {},
   "outputs": [
    {
     "name": "stdout",
     "output_type": "stream",
     "text": [
      "7\n"
     ]
    }
   ],
   "source": [
    "result = add(3, 4)\n",
    "print(result)"
   ]
  },
  {
   "cell_type": "code",
   "execution_count": 180,
   "id": "ef394a6c",
   "metadata": {},
   "outputs": [
    {
     "name": "stdout",
     "output_type": "stream",
     "text": [
      "11\n"
     ]
    }
   ],
   "source": [
    "result = add(4, 7)\n",
    "print(result)"
   ]
  },
  {
   "cell_type": "code",
   "execution_count": 182,
   "id": "1b184bc4",
   "metadata": {},
   "outputs": [],
   "source": [
    "# 2. 입력값은 없고 결과값이 있는 함수\n",
    "def add():\n",
    "    x = int(input(\"숫자를 입력해 주세요\"))\n",
    "    y = int(input(\"숫자를 입력해 주세요\"))\n",
    "    return x + y "
   ]
  },
  {
   "cell_type": "code",
   "execution_count": 184,
   "id": "716bf332",
   "metadata": {},
   "outputs": [
    {
     "name": "stdout",
     "output_type": "stream",
     "text": [
      "숫자를 입력해 주세요4\n",
      "숫자를 입력해 주세요7\n",
      "11\n"
     ]
    }
   ],
   "source": [
    "result = add()\n",
    "print(result)"
   ]
  },
  {
   "cell_type": "code",
   "execution_count": 185,
   "id": "aa188682",
   "metadata": {},
   "outputs": [
    {
     "name": "stdout",
     "output_type": "stream",
     "text": [
      "숫자를 입력해 주세요6\n",
      "숫자를 입력해 주세요7\n",
      "13\n"
     ]
    }
   ],
   "source": [
    "result = add()\n",
    "print(result)"
   ]
  },
  {
   "cell_type": "code",
   "execution_count": 189,
   "id": "c7f331aa",
   "metadata": {},
   "outputs": [
    {
     "name": "stdout",
     "output_type": "stream",
     "text": [
      "42\n"
     ]
    }
   ],
   "source": [
    "import random #모듈\n",
    "num = random.randint(1,44)\n",
    "print(num)"
   ]
  },
  {
   "cell_type": "code",
   "execution_count": 193,
   "id": "2669b9c7",
   "metadata": {},
   "outputs": [],
   "source": [
    "# 3. 입력 값은 있으나 결과값이 없는 함수\n",
    "def add(x, y):\n",
    "    result = x + y\n",
    "    print(result)"
   ]
  },
  {
   "cell_type": "code",
   "execution_count": 194,
   "id": "589e696a",
   "metadata": {},
   "outputs": [
    {
     "name": "stdout",
     "output_type": "stream",
     "text": [
      "7\n"
     ]
    }
   ],
   "source": [
    "add(3 , 4)"
   ]
  },
  {
   "cell_type": "code",
   "execution_count": 195,
   "id": "42172237",
   "metadata": {},
   "outputs": [],
   "source": [
    "# 입력값도 없고 결과값도 없는 함수\n",
    "def add():\n",
    "    x = 10\n",
    "    y = 30\n",
    "    result = x + y\n",
    "    print(result)"
   ]
  },
  {
   "cell_type": "code",
   "execution_count": 197,
   "id": "cb44f392",
   "metadata": {},
   "outputs": [],
   "source": [
    "def add():\n",
    "    x = int(input(\"숫자를 입력해주세요\"))\n",
    "    y = int(input(\"숫자를 입력해주세요\"))\n",
    "    result = x + y\n",
    "    print(result)"
   ]
  },
  {
   "cell_type": "code",
   "execution_count": 198,
   "id": "9a8cd518",
   "metadata": {},
   "outputs": [
    {
     "name": "stdout",
     "output_type": "stream",
     "text": [
      "숫자를 입력해주세요5\n",
      "숫자를 입력해주세요7\n",
      "12\n"
     ]
    }
   ],
   "source": [
    " add()"
   ]
  },
  {
   "cell_type": "code",
   "execution_count": 201,
   "id": "17bacedf",
   "metadata": {},
   "outputs": [
    {
     "name": "stdout",
     "output_type": "stream",
     "text": [
      "1, 9, 37, 3, 36, 24, "
     ]
    }
   ],
   "source": [
    "import random\n",
    "lotto =[i for i in range(1, 46)]\n",
    "lottosize = len(lotto) # 45\n",
    "j = 0\n",
    "while j <= 5:\n",
    "    lottosize -= 1\n",
    "    idx = random.randint(0, lottosize)\n",
    "    num = lotto.pop(idx)\n",
    "    print(num, end=\", \")\n",
    "    j += 1"
   ]
  },
  {
   "cell_type": "code",
   "execution_count": 202,
   "id": "6d772f7d",
   "metadata": {},
   "outputs": [],
   "source": [
    "def lottofn():\n",
    "    lotto =[i for i in range(1, 46)]\n",
    "    lottosize = len(lotto) # 45\n",
    "    j = 0\n",
    "    while j <= 5:\n",
    "        lottosize -= 1\n",
    "        idx = random.randint(0, lottosize)\n",
    "        num = lotto.pop(idx)\n",
    "        print(num, end=\", \")\n",
    "        j += 1    "
   ]
  },
  {
   "cell_type": "code",
   "execution_count": null,
   "id": "690ca1d4",
   "metadata": {},
   "outputs": [],
   "source": [
    "lottofn()"
   ]
  },
  {
   "cell_type": "code",
   "execution_count": null,
   "id": "17cdaeeb",
   "metadata": {},
   "outputs": [],
   "source": [
    "lottofn()"
   ]
  },
  {
   "cell_type": "code",
   "execution_count": 209,
   "id": "6947c6f5",
   "metadata": {},
   "outputs": [
    {
     "name": "stdout",
     "output_type": "stream",
     "text": [
      "구매수량을 입력해주세요4\n",
      "37, 7, 42, 24, 39, 21, \n",
      "30, 27, 14, 11, 43, 39, \n",
      "26, 37, 45, 40, 5, 32, \n",
      "22, 34, 9, 16, 21, 45, \n"
     ]
    }
   ],
   "source": [
    "cnt = int(input(\"구매수량을 입력해주세요\")) # 5\n",
    "i = 1\n",
    "while i <= cnt:\n",
    "    lottofn()\n",
    "    print()\n",
    "    i += 1"
   ]
  },
  {
   "cell_type": "code",
   "execution_count": 210,
   "id": "206555a7",
   "metadata": {},
   "outputs": [
    {
     "name": "stdout",
     "output_type": "stream",
     "text": [
      "구매수량을 입력해주세요6\n",
      "17, 28, 12, 11, 41, 29, \n",
      "29, 34, 14, 44, 42, 30, \n",
      "28, 21, 16, 3, 20, 14, \n",
      "12, 22, 43, 33, 16, 14, \n",
      "24, 8, 2, 6, 22, 35, \n",
      "14, 27, 22, 5, 21, 29, \n"
     ]
    }
   ],
   "source": [
    "cnt = int(input(\"구매수량을 입력해주세요\")) # 5\n",
    "for i in range(cnt):\n",
    "    lottofn()\n",
    "    print()"
   ]
  },
  {
   "cell_type": "code",
   "execution_count": 211,
   "id": "3b7d8310",
   "metadata": {},
   "outputs": [],
   "source": [
    "def lottocnt():\n",
    "    cnt = int(input(\"구매수량을 입력해주세요\")) # 5\n",
    "    for i in range(cnt):\n",
    "        lottofn()\n",
    "        print()"
   ]
  },
  {
   "cell_type": "code",
   "execution_count": 212,
   "id": "867a63d2",
   "metadata": {},
   "outputs": [
    {
     "name": "stdout",
     "output_type": "stream",
     "text": [
      "구매수량을 입력해주세요4\n",
      "12, 22, 15, 3, 6, 20, \n",
      "31, 16, 14, 11, 1, 38, \n",
      "19, 1, 45, 5, 23, 17, \n",
      "22, 13, 27, 41, 3, 39, \n"
     ]
    }
   ],
   "source": [
    "lottocnt()"
   ]
  },
  {
   "cell_type": "code",
   "execution_count": 214,
   "id": "b43df5ce",
   "metadata": {},
   "outputs": [
    {
     "name": "stdout",
     "output_type": "stream",
     "text": [
      "5050\n"
     ]
    }
   ],
   "source": [
    "# 1~~~100, 1~~~~1000, 50~~~~1000 에 해당하는 합계 값을 구하시오.\n",
    "sum1 = 0\n",
    "for i in range(1, 101):\n",
    "    sum1 += i\n",
    "print(sum1)"
   ]
  },
  {
   "cell_type": "code",
   "execution_count": 215,
   "id": "2453f5a1",
   "metadata": {},
   "outputs": [],
   "source": [
    "def sum2(start, end):  #결과값이 없는 함수\n",
    "    sum1 = 0\n",
    "    for i in range(start, end + 1):\n",
    "        sum1 += i\n",
    "    print(sum1)"
   ]
  },
  {
   "cell_type": "code",
   "execution_count": 218,
   "id": "e27d35b0",
   "metadata": {},
   "outputs": [
    {
     "name": "stdout",
     "output_type": "stream",
     "text": [
      "5050\n",
      "500500\n",
      "499275\n"
     ]
    }
   ],
   "source": [
    "sum2(1, 100)\n",
    "sum2(1, 1000)\n",
    "sum2(50, 1000)"
   ]
  },
  {
   "cell_type": "code",
   "execution_count": 220,
   "id": "3ee121e0",
   "metadata": {},
   "outputs": [],
   "source": [
    "def sum3(start, end): #결과값이 있는 함수\n",
    "    sum1 = 0\n",
    "    for i in range(start, end + 1):\n",
    "        sum1 += i\n",
    "    return sum1"
   ]
  },
  {
   "cell_type": "code",
   "execution_count": 221,
   "id": "c9e9ad02",
   "metadata": {},
   "outputs": [
    {
     "name": "stdout",
     "output_type": "stream",
     "text": [
      "5050\n"
     ]
    }
   ],
   "source": [
    "result = sum3(1, 100)\n",
    "print(result)"
   ]
  },
  {
   "cell_type": "code",
   "execution_count": 222,
   "id": "c566f646",
   "metadata": {},
   "outputs": [
    {
     "name": "stdout",
     "output_type": "stream",
     "text": [
      "500500\n"
     ]
    }
   ],
   "source": [
    "# parameter에 값을 지정해주기\n",
    "result = sum3(end = 1000, start = 1)\n",
    "print(result)"
   ]
  },
  {
   "cell_type": "code",
   "execution_count": 230,
   "id": "c3b00a91",
   "metadata": {},
   "outputs": [],
   "source": [
    "def sum11(*para1): # para1sms 튜플\n",
    "    print(\"*para1 : \" , para1)\n",
    "    sum1 = 0\n",
    "    for num in para1:\n",
    "        sum1 += num\n",
    "    print(sum1)"
   ]
  },
  {
   "cell_type": "code",
   "execution_count": 231,
   "id": "0b4d9a09",
   "metadata": {},
   "outputs": [
    {
     "name": "stdout",
     "output_type": "stream",
     "text": [
      "*para1 :  (1, 2)\n",
      "3\n",
      "*para1 :  (1, 2, 3)\n",
      "6\n",
      "*para1 :  (1, 2, 3, 4, 5)\n",
      "15\n"
     ]
    }
   ],
   "source": [
    "sum11(1,2)\n",
    "sum11(1,2,3)\n",
    "sum11(1,2,3,4,5)"
   ]
  },
  {
   "cell_type": "code",
   "execution_count": 239,
   "id": "2ab0903a",
   "metadata": {},
   "outputs": [],
   "source": [
    "def sum12(opt, *para):\n",
    "    print(\"opt : \", opt)\n",
    "    print(\"para :\", para)\n",
    "    sum1 = 1\n",
    "    if opt == \"add\":\n",
    "        for num in para:\n",
    "            sum1 += num\n",
    "    elif opt == \"mul\":\n",
    "        for num in para:\n",
    "            sum1 *= num\n",
    "    print(sum1)"
   ]
  },
  {
   "cell_type": "code",
   "execution_count": 240,
   "id": "3e6e0fa6",
   "metadata": {},
   "outputs": [
    {
     "name": "stdout",
     "output_type": "stream",
     "text": [
      "opt :  add\n",
      "para : (1, 2, 3, 4, 5)\n",
      "16\n"
     ]
    }
   ],
   "source": [
    "sum12(\"add\",1,2,3,4,5)"
   ]
  },
  {
   "cell_type": "code",
   "execution_count": 241,
   "id": "8606ffdd",
   "metadata": {},
   "outputs": [
    {
     "name": "stdout",
     "output_type": "stream",
     "text": [
      "opt :  mul\n",
      "para : (1, 2, 3, 4, 5)\n",
      "120\n"
     ]
    }
   ],
   "source": [
    "sum12(\"mul\",1,2,3,4,5)"
   ]
  },
  {
   "cell_type": "code",
   "execution_count": 254,
   "id": "9dca626c",
   "metadata": {},
   "outputs": [
    {
     "name": "stdout",
     "output_type": "stream",
     "text": [
      "abcdabcd\n",
      "(1, 2, 3, 4, 5, 6, 7)\n"
     ]
    }
   ],
   "source": [
    "t  = (1,2,3,4)\n",
    "str1 = \"abcd\"\n",
    "print(str1 * t[1])\n",
    "t1 = (5,6,7)\n",
    "print(t + t1)"
   ]
  },
  {
   "cell_type": "code",
   "execution_count": 248,
   "id": "0db83b3f",
   "metadata": {},
   "outputs": [],
   "source": [
    "def sum14(opt , *para):\n",
    "    result = (1,2,3)\n",
    "    if opt == \"add\":\n",
    "        result = result + para # (1,2,3) + (3,4,5) => (1,2,3,3,4,5)\n",
    "    elif opt == \"mul\":\n",
    "        result = result *  para[0] # (1,2,3) * 3\n",
    "    print(result)"
   ]
  },
  {
   "cell_type": "code",
   "execution_count": 249,
   "id": "5ea5cddf",
   "metadata": {},
   "outputs": [
    {
     "name": "stdout",
     "output_type": "stream",
     "text": [
      "(1, 2, 3, 1, 2, 3, 1, 2, 3)\n"
     ]
    }
   ],
   "source": [
    "sum14(\"mul\" , 3,4,5)"
   ]
  },
  {
   "cell_type": "code",
   "execution_count": 250,
   "id": "ed509ed8",
   "metadata": {},
   "outputs": [
    {
     "name": "stdout",
     "output_type": "stream",
     "text": [
      "(1, 2, 3, 3, 4, 5)\n"
     ]
    }
   ],
   "source": [
    "sum14(\"add\" , 3,4,5)"
   ]
  },
  {
   "cell_type": "code",
   "execution_count": 256,
   "id": "fd17bb89",
   "metadata": {},
   "outputs": [
    {
     "name": "stdout",
     "output_type": "stream",
     "text": [
      "10 20\n"
     ]
    }
   ],
   "source": [
    "a, b = (10, 20)\n",
    "print(a, b)"
   ]
  },
  {
   "cell_type": "code",
   "execution_count": 257,
   "id": "3d4b993a",
   "metadata": {},
   "outputs": [],
   "source": [
    "def test():\n",
    "    return (1,2,3)"
   ]
  },
  {
   "cell_type": "code",
   "execution_count": 258,
   "id": "d17d6a1f",
   "metadata": {},
   "outputs": [
    {
     "name": "stdout",
     "output_type": "stream",
     "text": [
      "1 2 3\n"
     ]
    }
   ],
   "source": [
    "a,b,c = test()\n",
    "print(a,b,c)"
   ]
  },
  {
   "cell_type": "code",
   "execution_count": 259,
   "id": "bff36d0d",
   "metadata": {},
   "outputs": [],
   "source": [
    "def add_mul(x, y):\n",
    "    i = x + y\n",
    "    j = x * y\n",
    "    return i, j # 튜플로 반환된다."
   ]
  },
  {
   "cell_type": "code",
   "execution_count": 263,
   "id": "8136ceff",
   "metadata": {},
   "outputs": [
    {
     "name": "stdout",
     "output_type": "stream",
     "text": [
      "(8, 15)\n",
      "8 15\n"
     ]
    }
   ],
   "source": [
    "result = add_mul(3, 5)\n",
    "print(result)\n",
    "print(result[0], result[1])"
   ]
  },
  {
   "cell_type": "code",
   "execution_count": 262,
   "id": "3ffea8b0",
   "metadata": {},
   "outputs": [
    {
     "name": "stdout",
     "output_type": "stream",
     "text": [
      "8 15\n"
     ]
    }
   ],
   "source": [
    "a, b = add_mul(3, 5)\n",
    "print(a, b)"
   ]
  },
  {
   "cell_type": "code",
   "execution_count": 270,
   "id": "f773eeab",
   "metadata": {},
   "outputs": [],
   "source": [
    "def add_mul1(x , y):\n",
    "    i = x + y\n",
    "    j = x * y\n",
    "    return i# return은 함수 종료\n",
    "    return j # 함수안에서 return문은 한번만 사용가능하다."
   ]
  },
  {
   "cell_type": "code",
   "execution_count": 272,
   "id": "683a9fa1",
   "metadata": {},
   "outputs": [
    {
     "name": "stdout",
     "output_type": "stream",
     "text": [
      "8\n"
     ]
    }
   ],
   "source": [
    "result = add_mul1(3,5)\n",
    "print(result)"
   ]
  },
  {
   "cell_type": "code",
   "execution_count": 280,
   "id": "f39152e2",
   "metadata": {},
   "outputs": [],
   "source": [
    "#### 매개변수에 초깃값 미리 설정하기 \n",
    "def say_myself(name, old, man=True):\n",
    "    print(\"나의 이름은 %s입니다.\" % name)\n",
    "    print(\"나의 나이는 %d입니다.\" % old)\n",
    "    if man:\n",
    "        print(\"남자입니다.\")\n",
    "    else:\n",
    "        print(\"여자입니다.\")"
   ]
  },
  {
   "cell_type": "code",
   "execution_count": 277,
   "id": "9141cf67",
   "metadata": {},
   "outputs": [
    {
     "name": "stdout",
     "output_type": "stream",
     "text": [
      "나의 이름은 이숭무입니다.\n",
      "나의 나이는 35입니다.\n",
      "남자입니다.\n"
     ]
    }
   ],
   "source": [
    "say_myself('이숭무', 35)"
   ]
  },
  {
   "cell_type": "code",
   "execution_count": 278,
   "id": "c56f0f8a",
   "metadata": {},
   "outputs": [
    {
     "name": "stdout",
     "output_type": "stream",
     "text": [
      "나의 이름은 유관순입니다.\n",
      "나의 나이는 200입니다.\n",
      "여자입니다.\n"
     ]
    }
   ],
   "source": [
    "say_myself('유관순', 200, False)"
   ]
  },
  {
   "cell_type": "code",
   "execution_count": 279,
   "id": "420fd801",
   "metadata": {},
   "outputs": [
    {
     "ename": "SyntaxError",
     "evalue": "non-default argument follows default argument (15470911.py, line 1)",
     "output_type": "error",
     "traceback": [
      "\u001b[1;36m  Cell \u001b[1;32mIn[279], line 1\u001b[1;36m\u001b[0m\n\u001b[1;33m    def say_myself(name, old = 10, man):\u001b[0m\n\u001b[1;37m                                   ^\u001b[0m\n\u001b[1;31mSyntaxError\u001b[0m\u001b[1;31m:\u001b[0m non-default argument follows default argument\n"
     ]
    }
   ],
   "source": [
    "''' 사용할 수 없다.\n",
    "def say_myself1(name, old = 10, man):\n",
    "    print(\"나의 이름은 %s입니다.\" % name)\n",
    "    print(\"나의 나이는 %d입니다.\" % old)\n",
    "    if man:\n",
    "        print(\"남자입니다.\")\n",
    "    else:\n",
    "        print(\"여자입니다.\")\n",
    "'''"
   ]
  },
  {
   "cell_type": "code",
   "execution_count": 290,
   "id": "b47d2a2f",
   "metadata": {},
   "outputs": [],
   "source": [
    "### 전역변수 : 보통 프로그램이 종료되기 전까지  사용할 수 있는 변수\n",
    "### 지역변수 : 함수가 종료되면 변수도 같이 소멸\n",
    "b = 1 # 전역변수\n",
    "def test4():\n",
    "    b = 100 # 지역변수\n",
    "    print(\"함수 안에서 실행 : %d\" % b)\n",
    "# 지역변수가 우선한다."
   ]
  },
  {
   "cell_type": "code",
   "execution_count": 291,
   "id": "f33c7dc3",
   "metadata": {},
   "outputs": [
    {
     "name": "stdout",
     "output_type": "stream",
     "text": [
      "함수 안에서 실행 : 100\n",
      "함수 밖에서 실행 : 1\n"
     ]
    }
   ],
   "source": [
    "test4()\n",
    "print(\"함수 밖에서 실행 : %d\" % b)"
   ]
  },
  {
   "cell_type": "code",
   "execution_count": 294,
   "id": "15e8ddb4",
   "metadata": {},
   "outputs": [],
   "source": [
    "b = 1 # 전역변수\n",
    "def test5():\n",
    "    global b\n",
    "    b = 100 # 전역변수\n",
    "    print(\"함수 안에서 실행 : %d\" % b)"
   ]
  },
  {
   "cell_type": "code",
   "execution_count": 295,
   "id": "5d90f70d",
   "metadata": {},
   "outputs": [
    {
     "name": "stdout",
     "output_type": "stream",
     "text": [
      "함수 안에서 실행 : 100\n",
      "함수 밖에서 실행 : 100\n"
     ]
    }
   ],
   "source": [
    "test5()  # 100\n",
    "print(\"함수 밖에서 실행 : %d\" % b)"
   ]
  },
  {
   "cell_type": "code",
   "execution_count": 296,
   "id": "0d7a798f",
   "metadata": {},
   "outputs": [
    {
     "name": "stdout",
     "output_type": "stream",
     "text": [
      "7\n"
     ]
    }
   ],
   "source": [
    "### lambda함수\n",
    "def add(a, b):\n",
    "    return a + b\n",
    "result = add(3, 4)\n",
    "print(result)"
   ]
  },
  {
   "cell_type": "code",
   "execution_count": 297,
   "id": "401a22d6",
   "metadata": {},
   "outputs": [
    {
     "name": "stdout",
     "output_type": "stream",
     "text": [
      "7\n"
     ]
    }
   ],
   "source": [
    "add = lambda a, b : a + b\n",
    "result = add(3, 4)\n",
    "print(result)"
   ]
  },
  {
   "cell_type": "code",
   "execution_count": 299,
   "id": "50c31238",
   "metadata": {},
   "outputs": [
    {
     "name": "stdout",
     "output_type": "stream",
     "text": [
      "7\n"
     ]
    }
   ],
   "source": [
    "def add(a, b = 4):\n",
    "    return a + b\n",
    "result = add(3, 4)\n",
    "print(result)"
   ]
  },
  {
   "cell_type": "code",
   "execution_count": 300,
   "id": "d6f34048",
   "metadata": {},
   "outputs": [
    {
     "name": "stdout",
     "output_type": "stream",
     "text": [
      "8\n",
      "7\n"
     ]
    }
   ],
   "source": [
    "add = lambda a, b = 4 : a + b\n",
    "result = add(3, 5)\n",
    "print(result)\n",
    "result = add(3)\n",
    "print(result)"
   ]
  },
  {
   "cell_type": "code",
   "execution_count": 302,
   "id": "cd11f01e",
   "metadata": {},
   "outputs": [
    {
     "name": "stdout",
     "output_type": "stream",
     "text": [
      "7\n"
     ]
    }
   ],
   "source": [
    "def add(opt, a, b):\n",
    "    if opt == \"add\":\n",
    "        return a + b\n",
    "    else:\n",
    "        return a - b\n",
    "result = add(\"add\", 4 , 3)\n",
    "print(result)"
   ]
  },
  {
   "cell_type": "code",
   "execution_count": 303,
   "id": "d5d4d838",
   "metadata": {},
   "outputs": [
    {
     "name": "stdout",
     "output_type": "stream",
     "text": [
      "7\n"
     ]
    }
   ],
   "source": [
    "add = lambda opt, a, b : a + b if opt == \"add\" else a - b\n",
    "result = add(\"add\", 4 , 3)\n",
    "print(result)"
   ]
  },
  {
   "cell_type": "code",
   "execution_count": 304,
   "id": "c18afceb",
   "metadata": {},
   "outputs": [
    {
     "name": "stdout",
     "output_type": "stream",
     "text": [
      "7\n"
     ]
    }
   ],
   "source": [
    "def add(opt , a, b):\n",
    "    if opt == \"add\":\n",
    "        return a + b\n",
    "    else:\n",
    "        if opt == \"sub\":\n",
    "            return a - b\n",
    "        else:\n",
    "            if opt == \"mul\":\n",
    "                return a * b\n",
    "            else:\n",
    "                return a / b\n",
    "result = add(\"add\", 4 , 3)\n",
    "print(result)"
   ]
  },
  {
   "cell_type": "code",
   "execution_count": 305,
   "id": "6a7248ad",
   "metadata": {},
   "outputs": [
    {
     "name": "stdout",
     "output_type": "stream",
     "text": [
      "7\n"
     ]
    }
   ],
   "source": [
    "add = lambda opt , a, b : a + b if opt == \"add\" else(\n",
    "                          a - b if opt == \"sub\" else(\n",
    "                          a * b if opt == \"mul\" else a / b\n",
    "                          )\n",
    "                        )\n",
    "result = add(\"add\", 4 , 3)\n",
    "print(result)"
   ]
  },
  {
   "cell_type": "code",
   "execution_count": 306,
   "id": "9d17e196",
   "metadata": {},
   "outputs": [],
   "source": [
    "## 파일 입출력\n",
    "## 데이터를 파일에 저장하거나 파일에 있는 데이터를 가져오고자 할 때 사용\n",
    "## 파일에 데이터를 저장\n",
    "# f = open( \"C:\\\\Users\\\\soldesk\\\\Desktop\\\\test.txt\" , \"w\")\n",
    "# f = open( \"C:/Users/soldesk/Desktop/test.txt\" , \"w\") \n",
    "#open(file, mode='r', buffering=None, encoding=None, errors=None, newline=None, closefd=True):\n",
    "f = open(\"test.txt\", \"w\" , encoding = \"utf-8\" )\n",
    "f.write(\"1번째 줄입니다.\\n\")\n",
    "f.write(\"2번째 줄입니다.\\n\")\n",
    "f.write(\"3번째 줄입니다.\\n\")\n",
    "f.write(\"4번째 줄입니다.\\n\")\n",
    "f.write(\"5번째 줄입니다.\\n\")\n",
    "f.close()"
   ]
  },
  {
   "cell_type": "code",
   "execution_count": 307,
   "id": "f1750e41",
   "metadata": {},
   "outputs": [],
   "source": [
    "f = open(\"test.txt\", \"w\" , encoding = \"utf-8\" ) # 존재하는 파일에 내용 적으면  overwrite가 된다.\n",
    "f.write(\"5번째 줄입니다.\\n\")\n",
    "f.write(\"6번째 줄입니다.\\n\")\n",
    "f.write(\"7번째 줄입니다.\\n\")\n",
    "f.write(\"8번째 줄입니다.\\n\")\n",
    "f.write(\"9번째 줄입니다.\\n\")\n",
    "f.close()"
   ]
  },
  {
   "cell_type": "code",
   "execution_count": 309,
   "id": "2395f913",
   "metadata": {},
   "outputs": [],
   "source": [
    "f = open(\"test.txt\", \"w\" , encoding = \"utf-8\" )\n",
    "for i in range(1, 6):\n",
    "    f.write(f\"{i}번째 줄입니다.\\n\")\n",
    "f.close()"
   ]
  },
  {
   "cell_type": "code",
   "execution_count": 310,
   "id": "4dfacd9d",
   "metadata": {},
   "outputs": [],
   "source": [
    "f = open(\"test.txt\", \"w\" , encoding = \"utf-8\" )\n",
    "for i in range(6, 11):\n",
    "    f.write(f\"{i}번째 줄입니다.\\n\")\n",
    "f.close()"
   ]
  },
  {
   "cell_type": "code",
   "execution_count": 311,
   "id": "38e2f70a",
   "metadata": {},
   "outputs": [],
   "source": [
    "f = open(\"test.txt\", \"a\" , encoding = \"utf-8\" )# append : 파일 내용의 마지막 부터 저장\n",
    "for i in range(11, 16):\n",
    "    f.write(f\"{i}번째 줄입니다.\\n\")\n",
    "f.close()"
   ]
  },
  {
   "cell_type": "code",
   "execution_count": 315,
   "id": "ce77a69e",
   "metadata": {},
   "outputs": [
    {
     "name": "stdout",
     "output_type": "stream",
     "text": [
      "6번째 줄입니다.\n",
      "\n",
      "7번째 줄입니다.\n",
      "\n",
      "8번째 줄입니다.\n",
      "\n",
      "9번째 줄입니다.\n",
      "\n",
      "\n"
     ]
    }
   ],
   "source": [
    "f = open(\"test.txt\", \"r\" , encoding = \"utf-8\" )\n",
    "line = f.readline()\n",
    "print(line)\n",
    "line = f.readline()\n",
    "print(line)\n",
    "line = f.readline()\n",
    "print(line)\n",
    "line = f.readline()\n",
    "print(line)\n",
    "f.close()\n",
    "'''\n",
    "line = f.readline() # 파일이 닫혀서 오류 발생\n",
    "print(line)\n",
    "'''\n",
    "print()"
   ]
  },
  {
   "cell_type": "code",
   "execution_count": 317,
   "id": "a0998208",
   "metadata": {},
   "outputs": [
    {
     "name": "stdout",
     "output_type": "stream",
     "text": [
      "6번째 줄입니다.\n",
      "7번째 줄입니다.\n",
      "8번째 줄입니다.\n",
      "9번째 줄입니다.\n",
      "11번째 줄입니다.\n",
      "12번째 줄입니다.\n",
      "13번째 줄입니다.\n",
      "14번째 줄입니다.\n",
      "15번째 줄입니다.\n"
     ]
    }
   ],
   "source": [
    "f = open(\"test.txt\", \"r\" , encoding = \"utf-8\" )\n",
    "while True:\n",
    "    line = f.readline()\n",
    "    if not line:\n",
    "        break\n",
    "    print(line, end=\"\")\n",
    "f.close()"
   ]
  },
  {
   "cell_type": "code",
   "execution_count": 323,
   "id": "bbbe7b11",
   "metadata": {},
   "outputs": [
    {
     "name": "stdout",
     "output_type": "stream",
     "text": [
      "['6번째 줄입니다.\\n', '7번째 줄입니다.\\n', '8번째 줄입니다.\\n', '9번째 줄입니다.\\n', '11번째 줄입니다.\\n', '12번째 줄입니다.\\n', '13번째 줄입니다.\\n', '14번째 줄입니다.\\n', '15번째 줄입니다.\\n']\n",
      "6번째 줄입니다.\n",
      "7번째 줄입니다.\n",
      "8번째 줄입니다.\n",
      "9번째 줄입니다.\n",
      "11번째 줄입니다.\n",
      "12번째 줄입니다.\n",
      "13번째 줄입니다.\n",
      "14번째 줄입니다.\n",
      "15번째 줄입니다.\n",
      "==============================\n",
      "6번째 줄입니다.\n",
      "7번째 줄입니다.\n",
      "8번째 줄입니다.\n",
      "9번째 줄입니다.\n",
      "11번째 줄입니다.\n",
      "12번째 줄입니다.\n",
      "13번째 줄입니다.\n",
      "14번째 줄입니다.\n",
      "15번째 줄입니다.\n",
      "\n"
     ]
    }
   ],
   "source": [
    "f = open(\"test.txt\", \"r\" , encoding = \"utf-8\" )\n",
    "lines = f.readlines()\n",
    "f.close()\n",
    "print(lines)\n",
    "for line in lines:\n",
    "    print(line, end=\"\")\n",
    "print(\"=\" * 30)\n",
    "print(\"\".join(lines))"
   ]
  },
  {
   "cell_type": "code",
   "execution_count": 324,
   "id": "27a1c514",
   "metadata": {},
   "outputs": [
    {
     "name": "stdout",
     "output_type": "stream",
     "text": [
      "6번째 줄입니다.\n",
      "7번째 줄입니다.\n",
      "8번째 줄입니다.\n",
      "9번째 줄입니다.\n",
      "11번째 줄입니다.\n",
      "12번째 줄입니다.\n",
      "13번째 줄입니다.\n",
      "14번째 줄입니다.\n",
      "15번째 줄입니다.\n",
      "\n"
     ]
    }
   ],
   "source": [
    "f = open(\"test.txt\", \"r\" , encoding = \"utf-8\" )\n",
    "data = f.read()\n",
    "f.close()\n",
    "print(data)"
   ]
  },
  {
   "cell_type": "code",
   "execution_count": 325,
   "id": "376132c8",
   "metadata": {},
   "outputs": [],
   "source": [
    "with open(\"test.txt\", \"w\" , encoding = \"utf-8\" ) as f:\n",
    "    for num in range(1, 6):\n",
    "        f.write(f\"{num}번째 줄입니다.\\n\")"
   ]
  },
  {
   "cell_type": "code",
   "execution_count": 326,
   "id": "ce65e6db",
   "metadata": {},
   "outputs": [],
   "source": [
    "with open(\"test.txt\", \"a\" , encoding = \"utf-8\" ) as f:\n",
    "    for num in range(1, 6):\n",
    "        f.write(f\"{num}번째 줄입니다.\\n\")"
   ]
  },
  {
   "cell_type": "code",
   "execution_count": 328,
   "id": "a61315d2",
   "metadata": {},
   "outputs": [
    {
     "name": "stdout",
     "output_type": "stream",
     "text": [
      "1번째 줄입니다.\n",
      "2번째 줄입니다.\n",
      "3번째 줄입니다.\n",
      "4번째 줄입니다.\n",
      "5번째 줄입니다.\n",
      "1번째 줄입니다.\n",
      "2번째 줄입니다.\n",
      "3번째 줄입니다.\n",
      "4번째 줄입니다.\n",
      "5번째 줄입니다.\n",
      "\n"
     ]
    }
   ],
   "source": [
    "with open(\"test.txt\" , \"r\" , encoding = \"utf-8\") as f:\n",
    "    data = f.read()\n",
    "print(data)"
   ]
  },
  {
   "cell_type": "code",
   "execution_count": null,
   "id": "eed57710",
   "metadata": {},
   "outputs": [],
   "source": []
  },
  {
   "cell_type": "code",
   "execution_count": null,
   "id": "a0c51d0c",
   "metadata": {},
   "outputs": [],
   "source": []
  },
  {
   "cell_type": "code",
   "execution_count": null,
   "id": "4c7f1254",
   "metadata": {},
   "outputs": [],
   "source": []
  }
 ],
 "metadata": {
  "kernelspec": {
   "display_name": "Python 3 (ipykernel)",
   "language": "python",
   "name": "python3"
  },
  "language_info": {
   "codemirror_mode": {
    "name": "ipython",
    "version": 3
   },
   "file_extension": ".py",
   "mimetype": "text/x-python",
   "name": "python",
   "nbconvert_exporter": "python",
   "pygments_lexer": "ipython3",
   "version": "3.11.2"
  }
 },
 "nbformat": 4,
 "nbformat_minor": 5
}
